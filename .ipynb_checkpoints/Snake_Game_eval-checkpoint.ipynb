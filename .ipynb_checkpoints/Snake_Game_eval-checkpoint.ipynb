{
 "cells": [
  {
   "cell_type": "code",
   "execution_count": 1,
   "id": "194ea2c5",
   "metadata": {},
   "outputs": [],
   "source": [
    "import numpy as np\n",
    "import matplotlib.pyplot as plt\n",
    "from seaborn import heatmap\n",
    "import networkx as nx\n",
    "import queue\n",
    "from random import randint"
   ]
  },
  {
   "cell_type": "code",
   "execution_count": 2,
   "id": "e7fdc5a9",
   "metadata": {},
   "outputs": [],
   "source": [
    "def showBinaryMaze(mazeGrid):\n",
    "    ''' Display the maze corresponding to a binary grid\n",
    "        Input : 2D NumPy array with 0 and 1 as elements\n",
    "        Output : Heatmap grid of the corresponding maze\n",
    "    '''\n",
    "    (height, width) = mazeGrid.shape\n",
    "    mazeGrid = mazeGrid * 255                # just to match standard pixel values (0 to 255) in grayscale\n",
    "    \n",
    "    f = plt.figure(figsize = (width,height))\n",
    "    heatmap(mazeGrid, vmin = 0, vmax = 255, cmap = \"PiYG\", cbar = False)\n",
    "    \n",
    "    \n",
    "    \n",
    "def showBinaryMazeProblem(mazeGrid, feed):\n",
    "    ''' Display the maze corresponding to a binary grid\n",
    "        Display \"start\" and \"goal\" position on the grid \n",
    "        Input : 2D NumPy array with 0 and 1 as elements\n",
    "        Input : 2D coordinate of the \"start\" and \"goal\"\n",
    "        Output : Heatmap grid of the maze with markers\n",
    "    '''\n",
    "    (height, width) = mazeGrid.shape\n",
    "    mazeGrid = mazeGrid * 255\n",
    "    \n",
    "    mazeGrid[3, 3] = 192\n",
    "    mazeGrid[feed[0], feed[1]] = 64\n",
    "    \n",
    "    f = plt.figure(figsize = (width,height))\n",
    "    heatmap(mazeGrid, vmin = 0, vmax = 255, cmap = \"PiYG\", cbar = False)"
   ]
  },
  {
   "cell_type": "code",
   "execution_count": 3,
   "id": "dc956d4a",
   "metadata": {},
   "outputs": [
    {
     "data": {
      "image/png": "[encoded data removed]",
      "text/plain": [
       "<Figure size 600x600 with 1 Axes>"
      ]
     },
     "metadata": {},
     "output_type": "display_data"
    }
   ],
   "source": [
    "grid = [[1, 1, 1, 1, 1, 1],\n",
    "        [1, 0, 0, 0, 0, 1],\n",
    "        [1, 0, 0, 0, 0, 1],\n",
    "        [1, 0, 0, 0.75, 0, 1],\n",
    "        [1, 0, 0, 0, 0, 1],\n",
    "        [1, 1, 1, 1, 1, 1]]\n",
    "\n",
    "\n",
    "grid = np.array(grid)\n",
    "\n",
    "showBinaryMaze(grid)\n",
    "        \n",
    "        \n"
   ]
  },
  {
   "cell_type": "code",
   "execution_count": 13,
   "id": "e251766c",
   "metadata": {},
   "outputs": [],
   "source": [
    "def spawnFeed(grid):\n",
    "    location = (randint(1,4), randint(1,4))\n",
    "    if grid[location[0], location[1]] != 0.75:\n",
    "        return location\n",
    "    "
   ]
  },
  {
   "cell_type": "code",
   "execution_count": 14,
   "id": "f316bc3e",
   "metadata": {
    "scrolled": true
   },
   "outputs": [
    {
     "data": {
      "image/png": "[encoded data removed]",
      "text/plain": [
       "<Figure size 600x600 with 1 Axes>"
      ]
     },
     "metadata": {},
     "output_type": "display_data"
    }
   ],
   "source": [
    "feed = spawnFeed(grid)\n",
    "showBinaryMazeProblem(grid, feed)"
   ]
  },
  {
   "cell_type": "code",
   "execution_count": 15,
   "id": "db689bcd",
   "metadata": {},
   "outputs": [],
   "source": [
    "# Create a Graph class\n",
    "class GridGraph(object):\n",
    "    ''' Class to represent a Graph\n",
    "        Construction : Using Edges\n",
    "    '''\n",
    "    def __init__(self):\n",
    "        self.edges = {}\n",
    "    \n",
    "    def all_edges(self):\n",
    "        return self.edges\n",
    "    \n",
    "    def neighbors(self, node):\n",
    "        return self.edges[node]    "
   ]
  },
  {
   "cell_type": "code",
   "execution_count": 16,
   "id": "7d195996",
   "metadata": {},
   "outputs": [],
   "source": [
    "# Function to convert a maze to a graph\n",
    "def grid_to_graph(grid):\n",
    "    ''' Converts a 2D binary maze to corresponding graph\n",
    "        Input : 2D NumPy array with 0 and 1 as elements\n",
    "        Output : MazeGraph corresponding to input maze\n",
    "    '''\n",
    "    gridGraph = GridGraph()\n",
    "    (height, width) = grid.shape\n",
    "    \n",
    "    for i in range(height):\n",
    "        for j in range(width):\n",
    "            \n",
    "            # Only consider blank cells as nodes\n",
    "            if grid[i,j] in (0, 0.75):\n",
    "                \n",
    "                neighbors = []\n",
    "                \n",
    "                # Adjacent cell : Top\n",
    "                if (i > 0) and grid[i-1,j] == 0:\n",
    "                    neighbors.append(((i-1,j), 1))\n",
    "                    \n",
    "                # Adjacent cell : Left                \n",
    "                if (j > 0) and grid[i,j-1] == 0:\n",
    "                    neighbors.append(((i,j-1), 1))\n",
    "                    \n",
    "                # Adjacent cell : Bottom                    \n",
    "                if (i < height - 1) and grid[i+1,j] == 0:\n",
    "                    neighbors.append(((i+1,j), 1))\n",
    "\n",
    "                # Adjacent cell : Right                    \n",
    "                if (j < width - 1) and grid[i,j+1] == 0:\n",
    "                    neighbors.append(((i,j+1), 1))\n",
    "\n",
    "                # Insert edges in the graph\n",
    "                if len(neighbors) > 0:\n",
    "                    gridGraph.edges[(i,j)] = neighbors\n",
    "\n",
    "    return gridGraph"
   ]
  },
  {
   "cell_type": "code",
   "execution_count": 17,
   "id": "c606b5aa",
   "metadata": {},
   "outputs": [
    {
     "data": {
      "text/plain": [
       "{(1, 1): [((2, 1), 1), ((1, 2), 1)],\n",
       " (1, 2): [((1, 1), 1), ((2, 2), 1), ((1, 3), 1)],\n",
       " (1, 3): [((1, 2), 1), ((2, 3), 1), ((1, 4), 1)],\n",
       " (1, 4): [((1, 3), 1), ((2, 4), 1)],\n",
       " (2, 1): [((1, 1), 1), ((3, 1), 1), ((2, 2), 1)],\n",
       " (2, 2): [((1, 2), 1), ((2, 1), 1), ((3, 2), 1), ((2, 3), 1)],\n",
       " (2, 3): [((1, 3), 1), ((2, 2), 1), ((2, 4), 1)],\n",
       " (2, 4): [((1, 4), 1), ((2, 3), 1), ((3, 4), 1)],\n",
       " (3, 1): [((2, 1), 1), ((4, 1), 1), ((3, 2), 1)],\n",
       " (3, 2): [((2, 2), 1), ((3, 1), 1), ((4, 2), 1)],\n",
       " (3, 3): [((2, 3), 1), ((3, 2), 1), ((4, 3), 1), ((3, 4), 1)],\n",
       " (3, 4): [((2, 4), 1), ((4, 4), 1)],\n",
       " (4, 1): [((3, 1), 1), ((4, 2), 1)],\n",
       " (4, 2): [((3, 2), 1), ((4, 1), 1), ((4, 3), 1)],\n",
       " (4, 3): [((4, 2), 1), ((4, 4), 1)],\n",
       " (4, 4): [((3, 4), 1), ((4, 3), 1)]}"
      ]
     },
     "execution_count": 17,
     "metadata": {},
     "output_type": "execute_result"
    }
   ],
   "source": [
    "# Convert the maze to a graph\n",
    "gridGraph = grid_to_graph(grid)\n",
    "\n",
    "# Print the edges with weights\n",
    "gridGraph.all_edges()"
   ]
  },
  {
   "cell_type": "code",
   "execution_count": 18,
   "id": "ac985809",
   "metadata": {},
   "outputs": [],
   "source": [
    "# Helper functions to work with the Maze with Path\n",
    "\n",
    "def showBinaryGridPath(grid, path):\n",
    "    ''' Display the maze corresponding to a binary grid\n",
    "        Display path(s) superimposed on the binary grid \n",
    "        Input : 2D NumPy array with 0 and 1 as elements\n",
    "        Input : 2D coordinates of the paths on the maze\n",
    "        Output : Heatmap grid of the maze with the path\n",
    "    '''\n",
    "    (height, width) = grid.shape\n",
    "    grid = grid * 255                # just to match standard pixel values (0 to 255) in grayscale\n",
    "    \n",
    "    for node in path:\n",
    "        grid[node[0], node[1]] = 128     # half level of grayscale (0 to 255) to highlight the path\n",
    "    \n",
    "    grid[node[0], node[1]] = 192\n",
    "    \n",
    "    f = plt.figure(figsize = (width,height))\n",
    "    heatmap(grid, vmin = 0, vmax = 255, cmap = \"PiYG\", cbar = False)"
   ]
  },
  {
   "cell_type": "code",
   "execution_count": 19,
   "id": "fd04adeb",
   "metadata": {},
   "outputs": [],
   "source": [
    "# Breadth-First-Search (BFS) with FIFO Queue\n",
    "\n",
    "def breadth_first_search(mazeGraph, start, goal):\n",
    "    ''' Function to perform BFS to find path in a graph\n",
    "        Input  : Graph with the start and goal vertices\n",
    "        Output : Dict of explored vertices in the graph\n",
    "    '''\n",
    "    frontier = queue.Queue()    # FIFO Queue for Frontier\n",
    "    \n",
    "    # initialization\n",
    "    frontier.put(start)         # Add the start node to frontier\n",
    "    explored = {}               # Dict of explored nodes {node : parentNode}\n",
    "    explored[start] = None      # start node has no parent node\n",
    "    processed = 0               # Count of total nodes processed\n",
    "    \n",
    "    while not frontier.empty():\n",
    "        # get next node from frontier\n",
    "        currentNode = frontier.get()\n",
    "        processed += 1\n",
    "        \n",
    "        # stop when goal is reached\n",
    "        if currentNode == goal:\n",
    "            break\n",
    "        \n",
    "        # explore every single neighbor of current node\n",
    "        for nextNode, weight in mazeGraph.neighbors(currentNode):\n",
    "           \n",
    "            # ignore if it has already been explored, helps to ensure we get optimal soln\n",
    "            if nextNode not in explored:\n",
    "                \n",
    "                # put new node in frontier\n",
    "                frontier.put(nextNode)\n",
    "                \n",
    "                # assign current node as parent\n",
    "                explored[nextNode] = currentNode\n",
    "    \n",
    "    return explored, processed\n",
    "\n",
    "\n",
    "# Reconstruct the path from the Dict of explored nodes {node : parentNode}\n",
    "# Intuition : Backtrack from the goal node by checking successive parents\n",
    "\n",
    "def reconstruct_path(explored, start, goal):\n",
    "    currentNode = goal             # start at the goal node\n",
    "    path = []                      # initiate the blank path\n",
    "\n",
    "    # stop when backtrack reaches start node\n",
    "    while currentNode != start:\n",
    "        # grow the path backwards and backtrack\n",
    "        path.append(currentNode)\n",
    "        currentNode = explored[currentNode]\n",
    "\n",
    "    path.append(start)             # append start node for completeness\n",
    "    path.reverse()                 # reverse the path from start to goal\n",
    "\n",
    "    return path\n",
    "\n"
   ]
  },
  {
   "cell_type": "code",
   "execution_count": 20,
   "id": "b210fe2a",
   "metadata": {},
   "outputs": [
    {
     "name": "stdout",
     "output_type": "stream",
     "text": [
      "Breadth-First-Search (BFS)\n",
      "\n",
      "Total nodes in maze : 15\n",
      "Total nodes visited : 6  |  40.0 %\n",
      "Final path distance : 3\n",
      "\n",
      "Path through the Maze : [(3, 3), (2, 3), (1, 3)]\n"
     ]
    },
    {
     "data": {
      "image/png": "[encoded data removed]",
      "text/plain": [
       "<Figure size 600x600 with 1 Axes>"
      ]
     },
     "metadata": {},
     "output_type": "display_data"
    }
   ],
   "source": [
    "head = (3,3)\n",
    "tail = head\n",
    "\n",
    "START = head\n",
    "GOAL = feed\n",
    "\n",
    "# Run the BFS algorithm for path finding\n",
    "nodesExplored, nodesProcessed = breadth_first_search(gridGraph, start = START, goal = GOAL)\n",
    "path = reconstruct_path(nodesExplored, start = START, goal = GOAL)\n",
    "\n",
    "# Basic measures for the algorithm\n",
    "print(\"Breadth-First-Search (BFS)\")\n",
    "print()\n",
    "\n",
    "totalNodes = np.count_nonzero(grid == 0)\n",
    "print(\"Total nodes in maze :\", totalNodes)\n",
    "print(\"Total nodes visited :\", nodesProcessed, \" | \", np.round(100*(nodesProcessed/totalNodes),2), \"%\")\n",
    "print(\"Final path distance :\", len(path))\n",
    "print()\n",
    "\n",
    "# Print the path and show using helper functions\n",
    "print(\"Path through the Maze :\", path)\n",
    "showBinaryGridPath(grid,path)"
   ]
  },
  {
   "cell_type": "code",
   "execution_count": 21,
   "id": "b928b961",
   "metadata": {},
   "outputs": [
    {
     "name": "stdout",
     "output_type": "stream",
     "text": [
      "Breadth-First-Search (BFS)\n",
      "\n",
      "Total nodes in maze : 15\n",
      "Total nodes visited : 1  |  6.67 %\n",
      "Final path distance : 1\n",
      "\n",
      "Path through the Maze : [(1, 3)]\n"
     ]
    },
    {
     "data": {
      "image/png": "[encoded data removed]",
      "text/plain": [
       "<Figure size 600x600 with 1 Axes>"
      ]
     },
     "metadata": {},
     "output_type": "display_data"
    }
   ],
   "source": [
    "head = feed\n",
    "tail = head\n",
    "\n",
    "START = head\n",
    "GOAL = feed\n",
    "\n",
    "# Run the BFS algorithm for path finding\n",
    "nodesExplored, nodesProcessed = breadth_first_search(gridGraph, start = START, goal = GOAL)\n",
    "path = reconstruct_path(nodesExplored, start = START, goal = GOAL)\n",
    "\n",
    "# Basic measures for the algorithm\n",
    "print(\"Breadth-First-Search (BFS)\")\n",
    "print()\n",
    "\n",
    "totalNodes = np.count_nonzero(grid == 0)\n",
    "print(\"Total nodes in maze :\", totalNodes)\n",
    "print(\"Total nodes visited :\", nodesProcessed, \" | \", np.round(100*(nodesProcessed/totalNodes),2), \"%\")\n",
    "print(\"Final path distance :\", len(path))\n",
    "print()\n",
    "\n",
    "# Print the path and show using helper functions\n",
    "print(\"Path through the Maze :\", path)\n",
    "showBinaryGridPath(grid,path)"
   ]
  },
  {
   "cell_type": "code",
   "execution_count": 12,
   "id": "c130b8b0",
   "metadata": {},
   "outputs": [],
   "source": [
    "def update_snake_position(snake_body, direction):\n",
    "    \"\"\"\n",
    "    Update the snake's position based on the given direction.\n",
    "    Returns the new head position and the old tail position (to be removed if not eating).\n",
    "    \"\"\"\n",
    "    # Direction could be 'up', 'down', 'left', 'right'\n",
    "    head_x, head_y = snake_body[0]\n",
    "    if direction == 'up':\n",
    "        new_head = (head_x - 1, head_y)\n",
    "    elif direction == 'down':\n",
    "        new_head = (head_x + 1, head_y)\n",
    "    elif direction == 'left':\n",
    "        new_head = (head_x, head_y - 1)\n",
    "    elif direction == 'right':\n",
    "        new_head = (head_x, head_y + 1)\n",
    "\n",
    "    new_body = [new_head] + snake_body[:-1]  # Move the snake\n",
    "    return new_body, snake_body[-1]  # Returns new body and the old tail position\n",
    "\n",
    "def check_collision(new_head, grid, snake_body):\n",
    "    \"\"\"\n",
    "    Check if the new head position collides with the wall or itself.\n",
    "    \"\"\"\n",
    "    if new_head in snake_body or grid[new_head[0], new_head[1]] == 1:\n",
    "        return True  # Collision detected\n",
    "    return False\n",
    "\n",
    "def grow_snake(snake_body, old_tail):\n",
    "    \"\"\"\n",
    "    Grow the snake by adding back the old tail position.\n",
    "    \"\"\"\n",
    "    snake_body.append(old_tail)\n",
    "    return snake_body"
   ]
  },
  {
   "cell_type": "markdown",
   "id": "91400694",
   "metadata": {},
   "source": [
    "# Evaluation of each search function"
   ]
  },
  {
   "cell_type": "markdown",
   "id": "2f39a60b",
   "metadata": {},
   "source": [
    "To evaluate our different Search Algorithms, we will make use of these metrics: Ability to find optimal solution, efficiency (time taken to search for solution), so as to see which algorithm would score the best in our game. Additionally, we would also want to analyse if the search can adapt to a larger and more complex game of snake."
   ]
  },
  {
   "cell_type": "markdown",
   "id": "eb26d022",
   "metadata": {},
   "source": [
    "## Uninformed Search"
   ]
  },
  {
   "cell_type": "markdown",
   "id": "a2867584",
   "metadata": {},
   "source": [
    "**Breadth-First Search:** Gave optimal solution, but was much slower compared to the other algorithms\n",
    "<br>**Uniform-Cost Search**: Gave optimal solutions, but was much slower compared other algorithms. Efficiency was the same as Breadth-First Search. \n",
    "<br>\n",
    "<br>**Depth-First Search:** Did not give an optimal solution, and often gave very long and winding paths. Was relatively inefficient, but still faster compared to Breadth_First Search and Uniform-Cost Search\n",
    "<br>**Depth-Limited Search:** Did not give optimal solution, but it took some time to tune the Depth limit was selected correctly\n",
    "<br>**Iterative Deepening Search:** Gave optimal solution, and was more efficient than breadth-first "
   ]
  },
  {
   "cell_type": "markdown",
   "id": "4f41261a",
   "metadata": {},
   "source": [
    "## Informed Search "
   ]
  },
  {
   "cell_type": "markdown",
   "id": "97ac94f3",
   "metadata": {},
   "source": [
    "**Greedy Search:** Did not give optimal solution at times, despite being quite efficient\n",
    "<br> **A\\* Search:** Gave an optimal solution, and was decently efficient"
   ]
  },
  {
   "cell_type": "markdown",
   "id": "8c65a196",
   "metadata": {},
   "source": [
    "When considering how the search algorithms works best, optimality is more important above all else. Despite Greedy Search being more efficient than A* Search, A* search would perform better on average compared Greedy Search in a more complex game of snake"
   ]
  },
  {
   "cell_type": "markdown",
   "id": "e775b603",
   "metadata": {},
   "source": [
    "## Best model after analysing "
   ]
  },
  {
   "cell_type": "markdown",
   "id": "0ee268d2",
   "metadata": {},
   "source": [
    "As seen above, amongst the Uninformed Search Algorithms, Iterative Deepening Search has shown the best results amongst the Uninformed Search Algorithms, and A* works best among the Informed Search Algorithms.\n",
    "\n",
    "When comparing both these searches, the A* search would be better than Iterative Deepening Search. It's better efficiency makes it much better at playing snake compared to Iterative Deepening Search. It's better time and space complexity also makes it a more feasible algorithm to use when expanding the game to larger dimensions."
   ]
  },
  {
   "cell_type": "code",
   "execution_count": null,
   "id": "9124d3d9",
   "metadata": {},
   "outputs": [],
   "source": []
  }
 ],
 "metadata": {
  "kernelspec": {
   "display_name": "Python 3 (ipykernel)",
   "language": "python",
   "name": "python3"
  },
  "language_info": {
   "codemirror_mode": {
    "name": "ipython",
    "version": 3
   },
   "file_extension": ".py",
   "mimetype": "text/x-python",
   "name": "python",
   "nbconvert_exporter": "python",
   "pygments_lexer": "ipython3",
   "version": "3.11.4"
  }
 },
 "nbformat": 4,
 "nbformat_minor": 5
}
