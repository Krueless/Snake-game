{
 "cells": [
  {
   "cell_type": "code",
   "execution_count": 220,
   "id": "6c87d2eb",
   "metadata": {},
   "outputs": [],
   "source": [
    "import numpy as np\n",
    "import matplotlib.pyplot as plt\n",
    "from seaborn import heatmap\n",
    "import networkx as nx\n",
    "import queue\n",
    "from random import randint"
   ]
  },
  {
   "cell_type": "code",
   "execution_count": 221,
   "id": "e7f625f2",
   "metadata": {},
   "outputs": [],
   "source": [
    "def showGrid(grid):\n",
    "    ''' Display the maze corresponding to a binary grid\n",
    "        Input : 2D NumPy array with 0 and 1 as elements\n",
    "        Output : Heatmap grid of the corresponding maze\n",
    "    '''\n",
    "    grid = grid.copy()\n",
    "    (height, width) = grid.shape\n",
    "    grid = grid * 255                # just to match standard pixel values (0 to 255) in grayscale\n",
    "    \n",
    "    f = plt.figure(figsize = (width,height))\n",
    "    heatmap(grid, vmin = 0, vmax = 255, cmap = \"PiYG\", cbar = False)\n",
    "    \n",
    "    \n",
    "    \n",
    "def showGridProblem(grid, feed):\n",
    "    ''' Display the maze corresponding to a binary grid\n",
    "        Display \"start\" and \"goal\" position on the grid \n",
    "        Input : 2D NumPy array with 0 and 1 as elements\n",
    "        Input : 2D coordinate of the \"start\" and \"goal\"\n",
    "        Output : Heatmap grid of the maze with markers\n",
    "    '''\n",
    "    \n",
    "    grid = grid.copy()\n",
    "    (height, width) = grid.shape\n",
    "    grid = grid.copy() * 255\n",
    "    \n",
    "    grid[feed[0], feed[1]] = 64\n",
    "    \n",
    "    f = plt.figure(figsize = (width,height))\n",
    "    heatmap(grid, vmin = 0, vmax = 255, cmap = \"PiYG\", cbar = False)"
   ]
  },
  {
   "cell_type": "code",
   "execution_count": 222,
   "id": "f9073c07",
   "metadata": {},
   "outputs": [],
   "source": [
    "def updateGrid(grid, obs):\n",
    "    grid = grid.copy()\n",
    "    for i in range(len(obs)):\n",
    "        x,y = obs[i][0], obs[i][1]\n",
    "        if i == 0:\n",
    "            grid[x,y] = 0.75\n",
    "        else:\n",
    "            grid[x,y] = 0.6\n",
    "    return grid\n",
    "    "
   ]
  },
  {
   "cell_type": "code",
   "execution_count": 223,
   "id": "baaee09b",
   "metadata": {},
   "outputs": [],
   "source": [
    "def spawnFeed(grid):\n",
    "    location = (randint(1,4), randint(1,4))\n",
    "    while grid[location[0], location[1]] in (0.75, 1, 0.6):\n",
    "        location = (randint(1,4), randint(1,4))\n",
    "    \n",
    "    return location"
   ]
  },
  {
   "cell_type": "code",
   "execution_count": 224,
   "id": "997b6cbc",
   "metadata": {},
   "outputs": [],
   "source": [
    "# Create a Graph class\n",
    "class GridGraph(object):\n",
    "    ''' Class to represent a Graph\n",
    "        Construction : Using Edges\n",
    "    '''\n",
    "    def __init__(self):\n",
    "        self.edges = {}\n",
    "    \n",
    "    def all_edges(self):\n",
    "        return self.edges\n",
    "    \n",
    "    def neighbors(self, node):\n",
    "        return self.edges[node]    "
   ]
  },
  {
   "cell_type": "code",
   "execution_count": 225,
   "id": "a3d8091d",
   "metadata": {},
   "outputs": [],
   "source": [
    "# Function to convert a maze to a graph\n",
    "def grid_to_graph(grid):\n",
    "    ''' Converts a 2D binary maze to corresponding graph\n",
    "        Input : 2D NumPy array with 0 and 1 as elements\n",
    "        Output : MazeGraph corresponding to input maze\n",
    "    '''\n",
    "    gridGraph = GridGraph()\n",
    "    (height, width) = grid.shape\n",
    "    \n",
    "    for i in range(1, height-1):\n",
    "        for j in range(1, width-1):\n",
    "            \n",
    "            # Only consider blank cells as nodes\n",
    "            if grid[i,j] in (0, 0.75):\n",
    "                \n",
    "                neighbors = []\n",
    "                \n",
    "                # Adjacent cell : Top\n",
    "                if (i > 1) and grid[i-1,j] == 0:\n",
    "                    neighbors.append(((i-1,j), 1))\n",
    "                    \n",
    "                # Adjacent cell : Left                \n",
    "                if (j > 1) and grid[i,j-1] == 0:\n",
    "                    neighbors.append(((i,j-1), 1))\n",
    "                    \n",
    "                # Adjacent cell : Bottom                    \n",
    "                if (i < height - 2) and grid[i+1,j] == 0:\n",
    "                    neighbors.append(((i+1,j), 1))\n",
    "\n",
    "                # Adjacent cell : Right                    \n",
    "                if (j < width - 2) and grid[i,j+1] == 0:\n",
    "                    neighbors.append(((i,j+1), 1))\n",
    "\n",
    "                # Insert edges in the graph\n",
    "                if len(neighbors) > 0:\n",
    "                    gridGraph.edges[(i,j)] = neighbors\n",
    "\n",
    "    return gridGraph"
   ]
  },
  {
   "cell_type": "code",
   "execution_count": 233,
   "id": "ebf70525",
   "metadata": {},
   "outputs": [],
   "source": [
    "# Helper functions to work with the Maze with Path\n",
    "\n",
    "def showGridPath(grid, path, goal, snakeArr):\n",
    "    ''' Display the maze corresponding to a binary grid\n",
    "        Display path(s) superimposed on the binary grid \n",
    "        Input : 2D NumPy array with 0 and 1 as elements\n",
    "        Input : 2D coordinates of the paths on the maze\n",
    "        Output : Heatmap grid of the maze with the path\n",
    "    '''\n",
    "    grid = grid \n",
    "    for i in range(len(path)):\n",
    "        node = path[i]\n",
    "        if i != 0:\n",
    "            grid[prevNode[0], prevNode[1]] = 0.6 \n",
    "            grid[node[0], node[1]] = 0.75\n",
    "            \n",
    "            tail = snakeArr[-1]\n",
    "            snakeArr = snakeArr[:-1]\n",
    "            snakeArr.insert(0, node)\n",
    "            grid[tail[0], tail[1]] = 0\n",
    "        \n",
    "            if i == len(path) - 1:\n",
    "                showGrid(grid)\n",
    "            else:\n",
    "                showGridProblem(grid, goal)\n",
    "        prevNode = node\n",
    "    \n"
   ]
  },
  {
   "cell_type": "code",
   "execution_count": 227,
   "id": "4a6dfd5d",
   "metadata": {},
   "outputs": [],
   "source": [
    "# Breadth-First-Search (BFS) with FIFO Queue\n",
    "\n",
    "def breadth_first_search(gridGraph, start, goal):\n",
    "    ''' Function to perform BFS to find path in a graph\n",
    "        Input  : Graph with the start and goal vertices\n",
    "        Output : Dict of explored vertices in the graph\n",
    "    '''\n",
    "    frontier = queue.Queue()    # FIFO Queue for Frontier\n",
    "    \n",
    "    # initialization\n",
    "    frontier.put(start)         # Add the start node to frontier\n",
    "    explored = {}               # Dict of explored nodes {node : parentNode}\n",
    "    explored[start] = None      # start node has no parent node\n",
    "    processed = 0               # Count of total nodes processed\n",
    "    \n",
    "    while not frontier.empty():\n",
    "        # get next node from frontier\n",
    "        currentNode = frontier.get()\n",
    "        processed += 1\n",
    "        \n",
    "        # stop when goal is reached\n",
    "        if currentNode == goal:\n",
    "            break\n",
    "        \n",
    "        # explore every single neighbor of current node\n",
    "        for nextNode, weight in gridGraph.neighbors(currentNode):\n",
    "           \n",
    "            # ignore if it has already been explored, helps to ensure we get optimal soln\n",
    "            if nextNode not in explored:\n",
    "                \n",
    "                # put new node in frontier\n",
    "                frontier.put(nextNode)\n",
    "                \n",
    "                # assign current node as parent\n",
    "                explored[nextNode] = currentNode\n",
    "    \n",
    "    return explored, processed\n",
    "\n",
    "\n",
    "# Reconstruct the path from the Dict of explored nodes {node : parentNode}\n",
    "# Intuition : Backtrack from the goal node by checking successive parents\n",
    "\n",
    "def reconstruct_path(explored, start, goal):\n",
    "    currentNode = goal             # start at the goal node\n",
    "    path = []                      # initiate the blank path\n",
    "\n",
    "    # stop when backtrack reaches start node\n",
    "    while currentNode != start:\n",
    "        # grow the path backwards and backtrack\n",
    "        path.append(currentNode)\n",
    "        currentNode = explored[currentNode]\n",
    "\n",
    "    path.append(start)             # append start node for completeness\n",
    "    path.reverse()                 # reverse the path from start to goal\n",
    "\n",
    "    return path\n",
    "\n"
   ]
  },
  {
   "cell_type": "code",
   "execution_count": 228,
   "id": "6aebb582",
   "metadata": {},
   "outputs": [],
   "source": [
    "class Snake:\n",
    "    def __init__(self):\n",
    "        self._length = 1\n",
    "        self._posArr = [(3,3)]\n",
    "        \n",
    "    def grow(self):\n",
    "        self._length += 1\n",
    "    \n",
    "    def updatePos(self, path):\n",
    "        path.reverse()\n",
    "        stepCount = len(path)\n",
    "        snakeLength = self._length\n",
    "        if snakeLength > len(path):\n",
    "            self._posArr = path + self._posArr[1:snakeLength-stepCount+1]\n",
    "        else:\n",
    "            self._posArr = path[:snakeLength]\n",
    "    \n",
    "    def getPos(self):\n",
    "        return self._posArr\n",
    "    \n",
    "    def getLength(self):\n",
    "        return self._length"
   ]
  },
  {
   "cell_type": "code",
   "execution_count": 229,
   "id": "dc956d4a",
   "metadata": {},
   "outputs": [],
   "source": [
    "newGrid = [[1.0, 1.0, 1.0, 1.0, 1.0, 1.0],\n",
    "        [1.0, 0.0, 0.0, 0.0, 0.0, 1.0],\n",
    "        [1.0, 0.0, 0.0, 0.0, 0.0, 1.0],\n",
    "        [1.0, 0.0, 0.0, 0.0, 0.0, 1.0],\n",
    "        [1.0, 0.0, 0.0, 0.0, 0.0, 1.0],\n",
    "        [1.0, 1.0, 1.0, 1.0, 1.0, 1.0]]\n",
    "\n",
    "newGrid = np.array(newGrid)\n"
   ]
  },
  {
   "cell_type": "code",
   "execution_count": 234,
   "id": "a729ff33",
   "metadata": {},
   "outputs": [
    {
     "name": "stdout",
     "output_type": "stream",
     "text": [
      "Breadth-First-Search (BFS)\n",
      "\n",
      "Total nodes in maze : 15\n",
      "Total nodes visited : 10  |  66.67 %\n",
      "Final path distance : 3\n",
      "\n",
      "Path through the Maze : [(3, 3), (3, 2), (4, 2)]\n",
      "[[1.   1.   1.   1.   1.   1.  ]\n",
      " [1.   0.   0.   0.   0.   1.  ]\n",
      " [1.   0.   0.   0.   0.   1.  ]\n",
      " [1.   0.   0.75 0.   0.   1.  ]\n",
      " [1.   0.   0.   0.   0.   1.  ]\n",
      " [1.   1.   1.   1.   1.   1.  ]]\n",
      "[[1.   1.   1.   1.   1.   1.  ]\n",
      " [1.   0.   0.   0.   0.   1.  ]\n",
      " [1.   0.   0.   0.   0.   1.  ]\n",
      " [1.   0.   0.   0.   0.   1.  ]\n",
      " [1.   0.   0.75 0.   0.   1.  ]\n",
      " [1.   1.   1.   1.   1.   1.  ]]\n",
      "Breadth-First-Search (BFS)\n",
      "\n",
      "Total nodes in maze : 14\n",
      "Total nodes visited : 3  |  21.43 %\n",
      "Final path distance : 2\n",
      "\n",
      "Path through the Maze : [(4, 2), (4, 3)]\n",
      "[[1.   1.   1.   1.   1.   1.  ]\n",
      " [1.   0.   0.   0.   0.   1.  ]\n",
      " [1.   0.   0.   0.   0.   1.  ]\n",
      " [1.   0.   0.   0.   0.   1.  ]\n",
      " [1.   0.   0.6  0.75 0.   1.  ]\n",
      " [1.   1.   1.   1.   1.   1.  ]]\n",
      "Breadth-First-Search (BFS)\n",
      "\n",
      "Total nodes in maze : 13\n",
      "Total nodes visited : 14  |  107.69 %\n",
      "Final path distance : 7\n",
      "\n",
      "Path through the Maze : [(4, 3), (3, 3), (2, 3), (2, 2), (2, 1), (3, 1), (4, 1)]\n",
      "[[1.   1.   1.   1.   1.   1.  ]\n",
      " [1.   0.   0.   0.   0.   1.  ]\n",
      " [1.   0.   0.   0.   0.   1.  ]\n",
      " [1.   0.   0.   0.75 0.   1.  ]\n",
      " [1.   0.   0.6  0.6  0.   1.  ]\n",
      " [1.   1.   1.   1.   1.   1.  ]]\n",
      "[[1.   1.   1.   1.   1.   1.  ]\n",
      " [1.   0.   0.   0.   0.   1.  ]\n",
      " [1.   0.   0.   0.75 0.   1.  ]\n",
      " [1.   0.   0.   0.6  0.   1.  ]\n",
      " [1.   0.   0.   0.6  0.   1.  ]\n",
      " [1.   1.   1.   1.   1.   1.  ]]\n",
      "[[1.   1.   1.   1.   1.   1.  ]\n",
      " [1.   0.   0.   0.   0.   1.  ]\n",
      " [1.   0.   0.75 0.6  0.   1.  ]\n",
      " [1.   0.   0.   0.6  0.   1.  ]\n",
      " [1.   0.   0.   0.   0.   1.  ]\n",
      " [1.   1.   1.   1.   1.   1.  ]]\n",
      "[[1.   1.   1.   1.   1.   1.  ]\n",
      " [1.   0.   0.   0.   0.   1.  ]\n",
      " [1.   0.75 0.6  0.6  0.   1.  ]\n",
      " [1.   0.   0.   0.   0.   1.  ]\n",
      " [1.   0.   0.   0.   0.   1.  ]\n",
      " [1.   1.   1.   1.   1.   1.  ]]\n",
      "[[1.   1.   1.   1.   1.   1.  ]\n",
      " [1.   0.   0.   0.   0.   1.  ]\n",
      " [1.   0.6  0.6  0.   0.   1.  ]\n",
      " [1.   0.75 0.   0.   0.   1.  ]\n",
      " [1.   0.   0.   0.   0.   1.  ]\n",
      " [1.   1.   1.   1.   1.   1.  ]]\n",
      "[[1.   1.   1.   1.   1.   1.  ]\n",
      " [1.   0.   0.   0.   0.   1.  ]\n",
      " [1.   0.6  0.   0.   0.   1.  ]\n",
      " [1.   0.6  0.   0.   0.   1.  ]\n",
      " [1.   0.75 0.   0.   0.   1.  ]\n",
      " [1.   1.   1.   1.   1.   1.  ]]\n"
     ]
    },
    {
     "data": {
      "image/png": "[encoded data removed]",
      "text/plain": [
       "<Figure size 600x600 with 1 Axes>"
      ]
     },
     "metadata": {},
     "output_type": "display_data"
    },
    {
     "data": {
      "image/png": "[encoded data removed]",
      "text/plain": [
       "<Figure size 600x600 with 1 Axes>"
      ]
     },
     "metadata": {},
     "output_type": "display_data"
    },
    {
     "data": {
      "image/png": "[encoded data removed]",
      "text/plain": [
       "<Figure size 600x600 with 1 Axes>"
      ]
     },
     "metadata": {},
     "output_type": "display_data"
    },
    {
     "data": {
      "image/png": "[encoded data removed]",
      "text/plain": [
       "<Figure size 600x600 with 1 Axes>"
      ]
     },
     "metadata": {},
     "output_type": "display_data"
    },
    {
     "data": {
      "image/png": "[encoded data removed]",
      "text/plain": [
       "<Figure size 600x600 with 1 Axes>"
      ]
     },
     "metadata": {},
     "output_type": "display_data"
    },
    {
     "data": {
      "image/png": "[encoded data removed]",
      "text/plain": [
       "<Figure size 600x600 with 1 Axes>"
      ]
     },
     "metadata": {},
     "output_type": "display_data"
    },
    {
     "data": {
      "image/png": "[encoded data removed]",
      "text/plain": [
       "<Figure size 600x600 with 1 Axes>"
      ]
     },
     "metadata": {},
     "output_type": "display_data"
    },
    {
     "data": {
      "image/png": "[encoded data removed]",
      "text/plain": [
       "<Figure size 600x600 with 1 Axes>"
      ]
     },
     "metadata": {},
     "output_type": "display_data"
    },
    {
     "data": {
      "image/png": "[encoded data removed]",
      "text/plain": [
       "<Figure size 600x600 with 1 Axes>"
      ]
     },
     "metadata": {},
     "output_type": "display_data"
    },
    {
     "data": {
      "image/png": "[encoded data removed]",
      "text/plain": [
       "<Figure size 600x600 with 1 Axes>"
      ]
     },
     "metadata": {},
     "output_type": "display_data"
    },
    {
     "data": {
      "image/png": "[encoded data removed]",
      "text/plain": [
       "<Figure size 600x600 with 1 Axes>"
      ]
     },
     "metadata": {},
     "output_type": "display_data"
    },
    {
     "data": {
      "image/png": "[encoded data removed]",
      "text/plain": [
       "<Figure size 600x600 with 1 Axes>"
      ]
     },
     "metadata": {},
     "output_type": "display_data"
    }
   ],
   "source": [
    "s1 = Snake()\n",
    "\n",
    "while s1.getLength() < 4:\n",
    "    snakeArr = s1.getPos()\n",
    "    grid = updateGrid(newGrid, snakeArr)    \n",
    "    feed = spawnFeed(grid)\n",
    "    showGridProblem(grid, feed)\n",
    "    \n",
    "    # Convert the maze to a graph\n",
    "    gridGraph = grid_to_graph(grid)\n",
    "\n",
    "    # Print the edges with weights\n",
    "    gridGraph.all_edges()\n",
    "    \n",
    "    head = snakeArr[0]\n",
    "\n",
    "    # Run the BFS algorithm for path finding\n",
    "    nodesExplored, nodesProcessed = breadth_first_search(gridGraph, start = head, goal = feed)\n",
    "    path = reconstruct_path(nodesExplored, start = head, goal = feed)\n",
    "\n",
    "    # Basic measures for the algorithm\n",
    "    print(\"Breadth-First-Search (BFS)\")\n",
    "    print()\n",
    "\n",
    "    totalNodes = np.count_nonzero(grid == 0)\n",
    "    print(\"Total nodes in maze :\", totalNodes)\n",
    "    print(\"Total nodes visited :\", nodesProcessed, \" | \", np.round(100*(nodesProcessed/totalNodes),2), \"%\")\n",
    "    print(\"Final path distance :\", len(path))\n",
    "    print()\n",
    "\n",
    "    # Print the path and show using helper functions\n",
    "    print(\"Path through the Maze :\", path)\n",
    "    showGridPath(grid,path,feed,snakeArr)\n",
    "    \n",
    "    s1.grow()\n",
    "    s1.updatePos(path)\n",
    "    "
   ]
  },
  {
   "cell_type": "code",
   "execution_count": null,
   "id": "0f2f3c2a",
   "metadata": {},
   "outputs": [],
   "source": []
  },
  {
   "cell_type": "code",
   "execution_count": null,
   "id": "193b3e23",
   "metadata": {},
   "outputs": [],
   "source": []
  },
  {
   "cell_type": "code",
   "execution_count": 191,
   "id": "da63a29e",
   "metadata": {},
   "outputs": [
    {
     "name": "stdout",
     "output_type": "stream",
     "text": [
      "Breadth-First-Search (BFS)\n",
      "\n",
      "Total nodes in maze : 15\n",
      "Total nodes visited : 5  |  33.33 %\n",
      "Final path distance : 2\n",
      "\n",
      "Path through the Maze : [(3, 3), (3, 4)]\n"
     ]
    },
    {
     "ename": "TypeError",
     "evalue": "showGridPath() missing 2 required positional arguments: 'goal' and 'snakeArr'",
     "output_type": "error",
     "traceback": [
      "\u001b[1;31m---------------------------------------------------------------------------\u001b[0m",
      "\u001b[1;31mTypeError\u001b[0m                                 Traceback (most recent call last)",
      "Cell \u001b[1;32mIn[191], line 35\u001b[0m\n\u001b[0;32m     33\u001b[0m \u001b[38;5;66;03m# Print the path and show using helper functions\u001b[39;00m\n\u001b[0;32m     34\u001b[0m \u001b[38;5;28mprint\u001b[39m(\u001b[38;5;124m\"\u001b[39m\u001b[38;5;124mPath through the Maze :\u001b[39m\u001b[38;5;124m\"\u001b[39m, path)\n\u001b[1;32m---> 35\u001b[0m \u001b[43mshowGridPath\u001b[49m\u001b[43m(\u001b[49m\u001b[43mgrid\u001b[49m\u001b[43m,\u001b[49m\u001b[43mpath\u001b[49m\u001b[43m)\u001b[49m\n\u001b[0;32m     37\u001b[0m s1\u001b[38;5;241m.\u001b[39mgrow()\n\u001b[0;32m     38\u001b[0m s1\u001b[38;5;241m.\u001b[39mupdatePos(path)\n",
      "\u001b[1;31mTypeError\u001b[0m: showGridPath() missing 2 required positional arguments: 'goal' and 'snakeArr'"
     ]
    },
    {
     "data": {
      "image/png": "[encoded data removed]",
      "text/plain": [
       "<Figure size 600x600 with 1 Axes>"
      ]
     },
     "metadata": {},
     "output_type": "display_data"
    },
    {
     "data": {
      "image/png": "[encoded data removed]",
      "text/plain": [
       "<Figure size 600x600 with 1 Axes>"
      ]
     },
     "metadata": {},
     "output_type": "display_data"
    }
   ],
   "source": [
    "s1 = Snake()\n",
    "\n",
    "while s1.getLength() < 11:\n",
    "    snakeArr = s1.getPos()\n",
    "    grid = updateGrid(newGrid, snakeArr)\n",
    "    showGrid(grid)\n",
    "    \n",
    "    feed = spawnFeed(grid)\n",
    "    showGridProblem(grid, feed)\n",
    "    \n",
    "    # Convert the maze to a graph\n",
    "    gridGraph = grid_to_graph(grid)\n",
    "\n",
    "    # Print the edges with weights\n",
    "    gridGraph.all_edges()\n",
    "    \n",
    "    head = snakeArr[0]\n",
    "\n",
    "    # Run the BFS algorithm for path finding\n",
    "    nodesExplored, nodesProcessed = breadth_first_search(gridGraph, start = head, goal = feed)\n",
    "    path = reconstruct_path(nodesExplored, start = head, goal = feed)\n",
    "\n",
    "    # Basic measures for the algorithm\n",
    "    print(\"Breadth-First-Search (BFS)\")\n",
    "    print()\n",
    "\n",
    "    totalNodes = np.count_nonzero(grid == 0)\n",
    "    print(\"Total nodes in maze :\", totalNodes)\n",
    "    print(\"Total nodes visited :\", nodesProcessed, \" | \", np.round(100*(nodesProcessed/totalNodes),2), \"%\")\n",
    "    print(\"Final path distance :\", len(path))\n",
    "    print()\n",
    "\n",
    "    # Print the path and show using helper functions\n",
    "    print(\"Path through the Maze :\", path)\n",
    "    showGridPath(grid,path)\n",
    "    \n",
    "    s1.grow()\n",
    "    s1.updatePos(path)\n",
    "    "
   ]
  },
  {
   "cell_type": "code",
   "execution_count": null,
   "id": "3910e7ac",
   "metadata": {},
   "outputs": [],
   "source": []
  },
  {
   "cell_type": "code",
   "execution_count": null,
   "id": "8a865916",
   "metadata": {},
   "outputs": [],
   "source": [
    "snakeArr = [(3,3)]\n",
    "length = 1"
   ]
  },
  {
   "cell_type": "code",
   "execution_count": null,
   "id": "3dae9856",
   "metadata": {},
   "outputs": [],
   "source": [
    "grid = updateGrid(newGrid, snakeArr)\n",
    "showGrid(grid)\n",
    "\n",
    "feed = spawnFeed(grid)\n",
    "showGridProblem(grid, feed)"
   ]
  },
  {
   "cell_type": "code",
   "execution_count": 142,
   "id": "0b2e903d",
   "metadata": {},
   "outputs": [
    {
     "data": {
      "text/plain": [
       "{(2, 2): [((3, 2), 1)],\n",
       " (3, 1): [((4, 1), 1), ((3, 2), 1)],\n",
       " (3, 2): [((2, 2), 1), ((4, 2), 1), ((3, 3), 1)],\n",
       " (3, 3): [((3, 2), 1), ((4, 3), 1), ((3, 4), 1)],\n",
       " (3, 4): [((3, 3), 1), ((4, 4), 1)],\n",
       " (4, 1): [((4, 2), 1)],\n",
       " (4, 2): [((3, 2), 1), ((4, 1), 1), ((4, 3), 1)],\n",
       " (4, 3): [((3, 3), 1), ((4, 2), 1), ((4, 4), 1)],\n",
       " (4, 4): [((3, 4), 1), ((4, 3), 1)]}"
      ]
     },
     "execution_count": 142,
     "metadata": {},
     "output_type": "execute_result"
    }
   ],
   "source": [
    "# Convert the maze to a graph\n",
    "gridGraph = grid_to_graph(grid)\n",
    "\n",
    "# Print the edges with weights\n",
    "gridGraph.all_edges()"
   ]
  },
  {
   "cell_type": "code",
   "execution_count": 176,
   "id": "c1f64dd6",
   "metadata": {
    "scrolled": true
   },
   "outputs": [
    {
     "ename": "KeyError",
     "evalue": "(1, 4)",
     "output_type": "error",
     "traceback": [
      "\u001b[1;31m---------------------------------------------------------------------------\u001b[0m",
      "\u001b[1;31mKeyError\u001b[0m                                  Traceback (most recent call last)",
      "Cell \u001b[1;32mIn[176], line 5\u001b[0m\n\u001b[0;32m      3\u001b[0m \u001b[38;5;66;03m# Run the BFS algorithm for path finding\u001b[39;00m\n\u001b[0;32m      4\u001b[0m nodesExplored, nodesProcessed \u001b[38;5;241m=\u001b[39m breadth_first_search(gridGraph, start \u001b[38;5;241m=\u001b[39m head, goal \u001b[38;5;241m=\u001b[39m feed)\n\u001b[1;32m----> 5\u001b[0m path \u001b[38;5;241m=\u001b[39m \u001b[43mreconstruct_path\u001b[49m\u001b[43m(\u001b[49m\u001b[43mnodesExplored\u001b[49m\u001b[43m,\u001b[49m\u001b[43m \u001b[49m\u001b[43mstart\u001b[49m\u001b[43m \u001b[49m\u001b[38;5;241;43m=\u001b[39;49m\u001b[43m \u001b[49m\u001b[43mhead\u001b[49m\u001b[43m,\u001b[49m\u001b[43m \u001b[49m\u001b[43mgoal\u001b[49m\u001b[43m \u001b[49m\u001b[38;5;241;43m=\u001b[39;49m\u001b[43m \u001b[49m\u001b[43mfeed\u001b[49m\u001b[43m)\u001b[49m\n\u001b[0;32m      7\u001b[0m \u001b[38;5;66;03m# Basic measures for the algorithm\u001b[39;00m\n\u001b[0;32m      8\u001b[0m \u001b[38;5;28mprint\u001b[39m(\u001b[38;5;124m\"\u001b[39m\u001b[38;5;124mBreadth-First-Search (BFS)\u001b[39m\u001b[38;5;124m\"\u001b[39m)\n",
      "Cell \u001b[1;32mIn[144], line 51\u001b[0m, in \u001b[0;36mreconstruct_path\u001b[1;34m(explored, start, goal)\u001b[0m\n\u001b[0;32m     48\u001b[0m \u001b[38;5;28;01mwhile\u001b[39;00m currentNode \u001b[38;5;241m!=\u001b[39m start:\n\u001b[0;32m     49\u001b[0m     \u001b[38;5;66;03m# grow the path backwards and backtrack\u001b[39;00m\n\u001b[0;32m     50\u001b[0m     path\u001b[38;5;241m.\u001b[39mappend(currentNode)\n\u001b[1;32m---> 51\u001b[0m     currentNode \u001b[38;5;241m=\u001b[39m \u001b[43mexplored\u001b[49m\u001b[43m[\u001b[49m\u001b[43mcurrentNode\u001b[49m\u001b[43m]\u001b[49m\n\u001b[0;32m     53\u001b[0m path\u001b[38;5;241m.\u001b[39mappend(start)             \u001b[38;5;66;03m# append start node for completeness\u001b[39;00m\n\u001b[0;32m     54\u001b[0m path\u001b[38;5;241m.\u001b[39mreverse()                 \u001b[38;5;66;03m# reverse the path from start to goal\u001b[39;00m\n",
      "\u001b[1;31mKeyError\u001b[0m: (1, 4)"
     ]
    }
   ],
   "source": [
    "head = snakeArr[0]\n",
    "\n",
    "# Run the BFS algorithm for path finding\n",
    "nodesExplored, nodesProcessed = breadth_first_search(gridGraph, start = head, goal = feed)\n",
    "path = reconstruct_path(nodesExplored, start = head, goal = feed)\n",
    "\n",
    "# Basic measures for the algorithm\n",
    "print(\"Breadth-First-Search (BFS)\")\n",
    "print()\n",
    "\n",
    "totalNodes = np.count_nonzero(grid == 0)\n",
    "print(\"Total nodes in maze :\", totalNodes)\n",
    "print(\"Total nodes visited :\", nodesProcessed, \" | \", np.round(100*(nodesProcessed/totalNodes),2), \"%\")\n",
    "print(\"Final path distance :\", len(path))\n",
    "print()\n",
    "\n",
    "# Print the path and show using helper functions\n",
    "print(\"Path through the Maze :\", path)\n",
    "showGridPath(grid,path)"
   ]
  },
  {
   "cell_type": "code",
   "execution_count": 146,
   "id": "f50e9b65",
   "metadata": {
    "scrolled": true
   },
   "outputs": [
    {
     "name": "stdout",
     "output_type": "stream",
     "text": [
      "9\n"
     ]
    }
   ],
   "source": [
    "length += 1\n",
    "print(length)\n",
    "\n"
   ]
  },
  {
   "cell_type": "code",
   "execution_count": 147,
   "id": "7a27fbbe",
   "metadata": {},
   "outputs": [
    {
     "name": "stdout",
     "output_type": "stream",
     "text": [
      "[(4, 4), (4, 3), (4, 2), (4, 1), (3, 1), (2, 1), (1, 1), (1, 2), (1, 3)]\n"
     ]
    }
   ],
   "source": [
    "path.reverse()\n",
    "stepCount = len(path)\n",
    "if length > len(path):\n",
    "    snakeArr = path[:length] + snakeArr[1:length-stepCount+1]\n",
    "else:\n",
    "    snakeArr = path[:length]\n",
    "print(snakeArr)"
   ]
  },
  {
   "cell_type": "code",
   "execution_count": null,
   "id": "ee82c00d",
   "metadata": {},
   "outputs": [],
   "source": []
  },
  {
   "cell_type": "code",
   "execution_count": null,
   "id": "c3192aed",
   "metadata": {},
   "outputs": [],
   "source": []
  },
  {
   "cell_type": "code",
   "execution_count": null,
   "id": "f5177971",
   "metadata": {},
   "outputs": [],
   "source": []
  },
  {
   "cell_type": "code",
   "execution_count": null,
   "id": "46558655",
   "metadata": {},
   "outputs": [],
   "source": []
  },
  {
   "cell_type": "code",
   "execution_count": null,
   "id": "3304bb42",
   "metadata": {},
   "outputs": [],
   "source": []
  },
  {
   "cell_type": "code",
   "execution_count": null,
   "id": "8ad03e50",
   "metadata": {},
   "outputs": [],
   "source": []
  },
  {
   "cell_type": "code",
   "execution_count": null,
   "id": "f438a374",
   "metadata": {},
   "outputs": [],
   "source": []
  },
  {
   "cell_type": "code",
   "execution_count": null,
   "id": "e8b7257d",
   "metadata": {},
   "outputs": [],
   "source": [
    "from turtle import Screen\n"
   ]
  },
  {
   "cell_type": "code",
   "execution_count": null,
   "id": "20925c79",
   "metadata": {},
   "outputs": [],
   "source": []
  }
 ],
 "metadata": {
  "kernelspec": {
   "display_name": "Python 3 (ipykernel)",
   "language": "python",
   "name": "python3"
  },
  "language_info": {
   "codemirror_mode": {
    "name": "ipython",
    "version": 3
   },
   "file_extension": ".py",
   "mimetype": "text/x-python",
   "name": "python",
   "nbconvert_exporter": "python",
   "pygments_lexer": "ipython3",
   "version": "3.9.19"
  }
 },
 "nbformat": 4,
 "nbformat_minor": 5
}
