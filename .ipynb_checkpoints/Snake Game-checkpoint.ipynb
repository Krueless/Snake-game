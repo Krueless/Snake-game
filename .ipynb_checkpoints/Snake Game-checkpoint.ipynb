{
 "cells": [
  {
   "cell_type": "code",
   "execution_count": 70,
   "id": "2e507ab1",
   "metadata": {},
   "outputs": [],
   "source": [
    "import numpy as np\n",
    "import matplotlib.pyplot as plt\n",
    "from seaborn import heatmap\n",
    "import networkx as nx\n",
    "import queue\n",
    "from random import randint"
   ]
  },
  {
   "cell_type": "code",
   "execution_count": 71,
   "id": "e7a6eda3",
   "metadata": {},
   "outputs": [],
   "source": [
    "def showGrid(grid):\n",
    "    ''' Display the maze corresponding to a binary grid\n",
    "        Input : 2D NumPy array with 0 and 1 as elements\n",
    "        Output : Heatmap grid of the corresponding maze\n",
    "    '''\n",
    "    (height, width) = grid.shape\n",
    "    grid = grid * 255                # just to match standard pixel values (0 to 255) in grayscale\n",
    "    \n",
    "    f = plt.figure(figsize = (width,height))\n",
    "    heatmap(grid, vmin = 0, vmax = 255, cmap = \"PiYG\", cbar = False)\n",
    "    \n",
    "    \n",
    "    \n",
    "def showGridProblem(grid, feed):\n",
    "    ''' Display the maze corresponding to a binary grid\n",
    "        Display \"start\" and \"goal\" position on the grid \n",
    "        Input : 2D NumPy array with 0 and 1 as elements\n",
    "        Input : 2D coordinate of the \"start\" and \"goal\"\n",
    "        Output : Heatmap grid of the maze with markers\n",
    "    '''\n",
    "    (height, width) = grid.shape\n",
    "    grid = grid * 255\n",
    "    \n",
    "    grid[feed[0], feed[1]] = 64\n",
    "    \n",
    "    f = plt.figure(figsize = (width,height))\n",
    "    heatmap(grid, vmin = 0, vmax = 255, cmap = \"PiYG\", cbar = False)"
   ]
  },
  {
   "cell_type": "code",
   "execution_count": 72,
   "id": "8197edd6",
   "metadata": {},
   "outputs": [],
   "source": [
    "def updateGrid(grid, obs):\n",
    "    grid = grid.copy()\n",
    "    for i in range(len(obs)):\n",
    "        x,y = obs[i][0], obs[i][1]\n",
    "        if i == 0:\n",
    "            grid[x,y] = 0.75\n",
    "        else:\n",
    "            grid[x,y] = 1\n",
    "    return grid\n",
    "    "
   ]
  },
  {
   "cell_type": "code",
   "execution_count": 152,
   "id": "24fe2162",
   "metadata": {},
   "outputs": [],
   "source": [
    "def spawnFeed(grid):\n",
    "    location = (randint(1,4), randint(1,4))\n",
    "    while grid[location[0], location[1]] in (0.75, 1):\n",
    "        location = (randint(1,4), randint(1,4))\n",
    "    \n",
    "    return location"
   ]
  },
  {
   "cell_type": "code",
   "execution_count": 74,
   "id": "dc956d4a",
   "metadata": {},
   "outputs": [],
   "source": [
    "newGrid = [[1.0, 1.0, 1.0, 1.0, 1.0, 1.0],\n",
    "        [1.0, 0.0, 0.0, 0.0, 0.0, 1.0],\n",
    "        [1.0, 0.0, 0.0, 0.0, 0.0, 1.0],\n",
    "        [1.0, 0.0, 0.0, 0.0, 0.0, 1.0],\n",
    "        [1.0, 0.0, 0.0, 0.0, 0.0, 1.0],\n",
    "        [1.0, 1.0, 1.0, 1.0, 1.0, 1.0]]\n",
    "\n",
    "newGrid = np.array(newGrid)\n",
    "snakeArr = [(3,3)]\n",
    "length = 1"
   ]
  },
  {
   "cell_type": "code",
   "execution_count": 75,
   "id": "dad9b2ed",
   "metadata": {},
   "outputs": [
    {
     "data": {
      "image/png": "[encoded data removed]",
      "text/plain": [
       "<Figure size 600x600 with 1 Axes>"
      ]
     },
     "metadata": {},
     "output_type": "display_data"
    }
   ],
   "source": [
    "grid = updateGrid(newGrid, snakeArr)\n",
    "showGrid(grid)"
   ]
  },
  {
   "cell_type": "code",
   "execution_count": 153,
   "id": "2c2445d2",
   "metadata": {
    "scrolled": true
   },
   "outputs": [
    {
     "data": {
      "image/png": "[encoded data removed]",
      "text/plain": [
       "<Figure size 600x600 with 1 Axes>"
      ]
     },
     "metadata": {},
     "output_type": "display_data"
    }
   ],
   "source": [
    "feed = spawnFeed(grid)\n",
    "showGridProblem(grid, feed)"
   ]
  },
  {
   "cell_type": "code",
   "execution_count": 107,
   "id": "54e03b0e",
   "metadata": {},
   "outputs": [],
   "source": [
    "# Create a Graph class\n",
    "class GridGraph(object):\n",
    "    ''' Class to represent a Graph\n",
    "        Construction : Using Edges\n",
    "    '''\n",
    "    def __init__(self):\n",
    "        self.edges = {}\n",
    "    \n",
    "    def all_edges(self):\n",
    "        return self.edges\n",
    "    \n",
    "    def neighbors(self, node):\n",
    "        return self.edges[node]    "
   ]
  },
  {
   "cell_type": "code",
   "execution_count": 108,
   "id": "e7cfeaaf",
   "metadata": {},
   "outputs": [],
   "source": [
    "# Function to convert a maze to a graph\n",
    "def grid_to_graph(grid):\n",
    "    ''' Converts a 2D binary maze to corresponding graph\n",
    "        Input : 2D NumPy array with 0 and 1 as elements\n",
    "        Output : MazeGraph corresponding to input maze\n",
    "    '''\n",
    "    gridGraph = GridGraph()\n",
    "    (height, width) = grid.shape\n",
    "    \n",
    "    for i in range(1, height-1):\n",
    "        for j in range(1, width-1):\n",
    "            \n",
    "            # Only consider blank cells as nodes\n",
    "            if grid[i,j] in (0, 0.75):\n",
    "                \n",
    "                neighbors = []\n",
    "                \n",
    "                # Adjacent cell : Top\n",
    "                if (i > 1) and grid[i-1,j] == 0:\n",
    "                    neighbors.append(((i-1,j), 1))\n",
    "                    \n",
    "                # Adjacent cell : Left                \n",
    "                if (j > 1) and grid[i,j-1] == 0:\n",
    "                    neighbors.append(((i,j-1), 1))\n",
    "                    \n",
    "                # Adjacent cell : Bottom                    \n",
    "                if (i < height - 2) and grid[i+1,j] == 0:\n",
    "                    neighbors.append(((i+1,j), 1))\n",
    "\n",
    "                # Adjacent cell : Right                    \n",
    "                if (j < width - 2) and grid[i,j+1] == 0:\n",
    "                    neighbors.append(((i,j+1), 1))\n",
    "\n",
    "                # Insert edges in the graph\n",
    "                if len(neighbors) > 0:\n",
    "                    gridGraph.edges[(i,j)] = neighbors\n",
    "\n",
    "    return gridGraph"
   ]
  },
  {
   "cell_type": "code",
   "execution_count": 142,
   "id": "c52cae15",
   "metadata": {},
   "outputs": [
    {
     "data": {
      "text/plain": [
       "{(2, 2): [((3, 2), 1)],\n",
       " (3, 1): [((4, 1), 1), ((3, 2), 1)],\n",
       " (3, 2): [((2, 2), 1), ((4, 2), 1), ((3, 3), 1)],\n",
       " (3, 3): [((3, 2), 1), ((4, 3), 1), ((3, 4), 1)],\n",
       " (3, 4): [((3, 3), 1), ((4, 4), 1)],\n",
       " (4, 1): [((4, 2), 1)],\n",
       " (4, 2): [((3, 2), 1), ((4, 1), 1), ((4, 3), 1)],\n",
       " (4, 3): [((3, 3), 1), ((4, 2), 1), ((4, 4), 1)],\n",
       " (4, 4): [((3, 4), 1), ((4, 3), 1)]}"
      ]
     },
     "execution_count": 142,
     "metadata": {},
     "output_type": "execute_result"
    }
   ],
   "source": [
    "# Convert the maze to a graph\n",
    "gridGraph = grid_to_graph(grid)\n",
    "\n",
    "# Print the edges with weights\n",
    "gridGraph.all_edges()"
   ]
  },
  {
   "cell_type": "code",
   "execution_count": 143,
   "id": "4e185d0f",
   "metadata": {},
   "outputs": [],
   "source": [
    "# Helper functions to work with the Maze with Path\n",
    "\n",
    "def showGridPath(grid, path):\n",
    "    ''' Display the maze corresponding to a binary grid\n",
    "        Display path(s) superimposed on the binary grid \n",
    "        Input : 2D NumPy array with 0 and 1 as elements\n",
    "        Input : 2D coordinates of the paths on the maze\n",
    "        Output : Heatmap grid of the maze with the path\n",
    "    '''\n",
    "    (height, width) = grid.shape\n",
    "    grid = grid * 255                # just to match standard pixel values (0 to 255) in grayscale\n",
    "    \n",
    "    for node in path:\n",
    "        grid[node[0], node[1]] = 128     # half level of grayscale (0 to 255) to highlight the path\n",
    "    \n",
    "    grid[node[0], node[1]] = 192\n",
    "    \n",
    "    f = plt.figure(figsize = (width,height))\n",
    "    heatmap(grid, vmin = 0, vmax = 255, cmap = \"PiYG\", cbar = False)"
   ]
  },
  {
   "cell_type": "code",
   "execution_count": 144,
   "id": "d2061883",
   "metadata": {},
   "outputs": [],
   "source": [
    "# Breadth-First-Search (BFS) with FIFO Queue\n",
    "\n",
    "def breadth_first_search(gridGraph, start, goal):\n",
    "    ''' Function to perform BFS to find path in a graph\n",
    "        Input  : Graph with the start and goal vertices\n",
    "        Output : Dict of explored vertices in the graph\n",
    "    '''\n",
    "    frontier = queue.Queue()    # FIFO Queue for Frontier\n",
    "    \n",
    "    # initialization\n",
    "    frontier.put(start)         # Add the start node to frontier\n",
    "    explored = {}               # Dict of explored nodes {node : parentNode}\n",
    "    explored[start] = None      # start node has no parent node\n",
    "    processed = 0               # Count of total nodes processed\n",
    "    \n",
    "    while not frontier.empty():\n",
    "        # get next node from frontier\n",
    "        currentNode = frontier.get()\n",
    "        processed += 1\n",
    "        \n",
    "        # stop when goal is reached\n",
    "        if currentNode == goal:\n",
    "            break\n",
    "        \n",
    "        # explore every single neighbor of current node\n",
    "        for nextNode, weight in gridGraph.neighbors(currentNode):\n",
    "           \n",
    "            # ignore if it has already been explored, helps to ensure we get optimal soln\n",
    "            if nextNode not in explored:\n",
    "                \n",
    "                # put new node in frontier\n",
    "                frontier.put(nextNode)\n",
    "                \n",
    "                # assign current node as parent\n",
    "                explored[nextNode] = currentNode\n",
    "    \n",
    "    return explored, processed\n",
    "\n",
    "\n",
    "# Reconstruct the path from the Dict of explored nodes {node : parentNode}\n",
    "# Intuition : Backtrack from the goal node by checking successive parents\n",
    "\n",
    "def reconstruct_path(explored, start, goal):\n",
    "    currentNode = goal             # start at the goal node\n",
    "    path = []                      # initiate the blank path\n",
    "\n",
    "    # stop when backtrack reaches start node\n",
    "    while currentNode != start:\n",
    "        # grow the path backwards and backtrack\n",
    "        path.append(currentNode)\n",
    "        currentNode = explored[currentNode]\n",
    "\n",
    "    path.append(start)             # append start node for completeness\n",
    "    path.reverse()                 # reverse the path from start to goal\n",
    "\n",
    "    return path\n",
    "\n"
   ]
  },
  {
   "cell_type": "code",
   "execution_count": 145,
   "id": "ac9f347d",
   "metadata": {
    "scrolled": true
   },
   "outputs": [
    {
     "name": "stdout",
     "output_type": "stream",
     "text": [
      "Breadth-First-Search (BFS)\n",
      "\n",
      "Total nodes in maze : 8\n",
      "Total nodes visited : 9  |  112.5 %\n",
      "Final path distance : 5\n",
      "\n",
      "Path through the Maze : [(3, 1), (4, 1), (4, 2), (4, 3), (4, 4)]\n"
     ]
    },
    {
     "data": {
      "image/png": "[encoded data removed]",
      "text/plain": [
       "<Figure size 600x600 with 1 Axes>"
      ]
     },
     "metadata": {},
     "output_type": "display_data"
    }
   ],
   "source": [
    "head = snakeArr[0]\n",
    "\n",
    "# Run the BFS algorithm for path finding\n",
    "nodesExplored, nodesProcessed = breadth_first_search(gridGraph, start = head, goal = feed)\n",
    "path = reconstruct_path(nodesExplored, start = head, goal = feed)\n",
    "\n",
    "# Basic measures for the algorithm\n",
    "print(\"Breadth-First-Search (BFS)\")\n",
    "print()\n",
    "\n",
    "totalNodes = np.count_nonzero(grid == 0)\n",
    "print(\"Total nodes in maze :\", totalNodes)\n",
    "print(\"Total nodes visited :\", nodesProcessed, \" | \", np.round(100*(nodesProcessed/totalNodes),2), \"%\")\n",
    "print(\"Final path distance :\", len(path))\n",
    "print()\n",
    "\n",
    "# Print the path and show using helper functions\n",
    "print(\"Path through the Maze :\", path)\n",
    "showGridPath(grid,path)"
   ]
  },
  {
   "cell_type": "code",
   "execution_count": 146,
   "id": "d83e9023",
   "metadata": {
    "scrolled": true
   },
   "outputs": [
    {
     "name": "stdout",
     "output_type": "stream",
     "text": [
      "9\n"
     ]
    }
   ],
   "source": [
    "length += 1\n",
    "print(length)\n",
    "\n"
   ]
  },
  {
   "cell_type": "code",
   "execution_count": 147,
   "id": "20c477d3",
   "metadata": {},
   "outputs": [
    {
     "name": "stdout",
     "output_type": "stream",
     "text": [
      "[(4, 4), (4, 3), (4, 2), (4, 1), (3, 1), (2, 1), (1, 1), (1, 2), (1, 3)]\n"
     ]
    }
   ],
   "source": [
    "path.reverse()\n",
    "stepCount = len(path)\n",
    "if length > len(path):\n",
    "    snakeArr = path[:length] + snakeArr[1:length-stepCount+1]\n",
    "else:\n",
    "    snakeArr = path[:length]\n",
    "print(snakeArr)"
   ]
  },
  {
   "cell_type": "code",
   "execution_count": 154,
   "id": "58bce56a",
   "metadata": {},
   "outputs": [],
   "source": [
    "class Snake:\n",
    "    def __init__(self):\n",
    "        self._length = 1\n",
    "        self._posArr = [(3,3)]\n",
    "        \n",
    "    def grow(self):\n",
    "        self._length += 1\n",
    "    \n",
    "    def updatePos(self, path):\n",
    "        path.reverse()\n",
    "        stepCount = len(path)\n",
    "        snakeLength = self._length\n",
    "        if snakeLength > len(path):\n",
    "            self._snakeArr = path + snakeArr[1:snakeLength-stepCount+1]\n",
    "        else:\n",
    "            self._snakeArr = path[:snakeLength]\n",
    "    \n",
    "    def getPos(self):\n",
    "        return self._posArr\n",
    "    \n",
    "    def getLength(self):\n",
    "        return self._length"
   ]
  },
  {
   "cell_type": "code",
   "execution_count": null,
   "id": "fa48a624",
   "metadata": {},
   "outputs": [],
   "source": [
    "s1 = Snake()\n",
    "\n",
    "while s1.getLength() < 3:\n",
    "    snakeArr = s1.returnPos()\n",
    "    grid = updateGrid(newGrid, snakeArr)\n",
    "    showGrid(grid)\n",
    "    \n",
    "    feed = spawnFeed(grid)\n",
    "    showGridProblem(grid, feed)\n",
    "    \n",
    "    # Convert the maze to a graph\n",
    "    gridGraph = grid_to_graph(grid)\n",
    "\n",
    "    # Print the edges with weights\n",
    "    gridGraph.all_edges()\n",
    "    \n",
    "    head = snakeArr[0]\n",
    "\n",
    "    # Run the BFS algorithm for path finding\n",
    "    nodesExplored, nodesProcessed = breadth_first_search(gridGraph, start = head, goal = feed)\n",
    "    path = reconstruct_path(nodesExplored, start = head, goal = feed)\n",
    "\n",
    "    # Basic measures for the algorithm\n",
    "    print(\"Breadth-First-Search (BFS)\")\n",
    "    print()\n",
    "\n",
    "    totalNodes = np.count_nonzero(grid == 0)\n",
    "    print(\"Total nodes in maze :\", totalNodes)\n",
    "    print(\"Total nodes visited :\", nodesProcessed, \" | \", np.round(100*(nodesProcessed/totalNodes),2), \"%\")\n",
    "    print(\"Final path distance :\", len(path))\n",
    "    print()\n",
    "\n",
    "    # Print the path and show using helper functions\n",
    "    print(\"Path through the Maze :\", path)\n",
    "    showGridPath(grid,path)\n",
    "    \n",
    "    s1.grow()\n",
    "    s1.updatePos(path)\n",
    "    "
   ]
  },
  {
   "cell_type": "code",
   "execution_count": null,
   "id": "2cf2d210",
   "metadata": {},
   "outputs": [],
   "source": []
  },
  {
   "cell_type": "code",
   "execution_count": null,
   "id": "34054ad0",
   "metadata": {},
   "outputs": [],
   "source": []
  },
  {
   "cell_type": "code",
   "execution_count": null,
   "id": "a68a2042",
   "metadata": {},
   "outputs": [],
   "source": []
  },
  {
   "cell_type": "code",
   "execution_count": null,
   "id": "f5c78e47",
   "metadata": {},
   "outputs": [],
   "source": []
  },
  {
   "cell_type": "code",
   "execution_count": null,
   "id": "cd22eadb",
   "metadata": {},
   "outputs": [],
   "source": [
    "def calculateTail(snakeArr, path):\n",
    "    pathSteps = len(path)\n",
    "    if len(snakeArr) >= pathSteps:\n",
    "        snakeArr = path.reverse() + snakeArr[pathSteps-1:]\n",
    "    else:\n",
    "        \n",
    "        \n",
    "        \n",
    "    \n",
    "    \n",
    "    "
   ]
  },
  {
   "cell_type": "code",
   "execution_count": null,
   "id": "a492e134",
   "metadata": {},
   "outputs": [],
   "source": []
  },
  {
   "cell_type": "code",
   "execution_count": null,
   "id": "650594c0",
   "metadata": {},
   "outputs": [],
   "source": []
  },
  {
   "cell_type": "code",
   "execution_count": null,
   "id": "e4ed1409",
   "metadata": {},
   "outputs": [],
   "source": []
  },
  {
   "cell_type": "code",
   "execution_count": null,
   "id": "40f1b203",
   "metadata": {},
   "outputs": [],
   "source": [
    "from turtle import Screen\n"
   ]
  },
  {
   "cell_type": "code",
   "execution_count": null,
   "id": "199d9624",
   "metadata": {},
   "outputs": [],
   "source": []
  }
 ],
 "metadata": {
  "kernelspec": {
   "display_name": "Python 3 (ipykernel)",
   "language": "python",
   "name": "python3"
  },
  "language_info": {
   "codemirror_mode": {
    "name": "ipython",
    "version": 3
   },
   "file_extension": ".py",
   "mimetype": "text/x-python",
   "name": "python",
   "nbconvert_exporter": "python",
   "pygments_lexer": "ipython3",
   "version": "3.9.19"
  }
 },
 "nbformat": 4,
 "nbformat_minor": 5
}
