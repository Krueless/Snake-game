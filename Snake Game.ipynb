{
 "cells": [
  {
   "cell_type": "code",
   "execution_count": 40,
   "id": "f3d7306b",
   "metadata": {},
   "outputs": [],
   "source": [
    "import numpy as np\n",
    "import matplotlib.pyplot as plt\n",
    "from seaborn import heatmap\n",
    "import networkx as nx\n",
    "import queue\n",
    "from random import randint"
   ]
  },
  {
   "cell_type": "code",
   "execution_count": 120,
   "id": "446b0b83",
   "metadata": {},
   "outputs": [],
   "source": [
    "def showBinaryMaze(mazeGrid):\n",
    "    ''' Display the maze corresponding to a binary grid\n",
    "        Input : 2D NumPy array with 0 and 1 as elements\n",
    "        Output : Heatmap grid of the corresponding maze\n",
    "    '''\n",
    "    (height, width) = mazeGrid.shape\n",
    "    mazeGrid = mazeGrid * 255                # just to match standard pixel values (0 to 255) in grayscale\n",
    "    \n",
    "    f = plt.figure(figsize = (width,height))\n",
    "    heatmap(mazeGrid, vmin = 0, vmax = 255, cmap = \"PiYG\", cbar = False)\n",
    "    \n",
    "    \n",
    "    \n",
    "def showBinaryMazeProblem(mazeGrid, feed):\n",
    "    ''' Display the maze corresponding to a binary grid\n",
    "        Display \"start\" and \"goal\" position on the grid \n",
    "        Input : 2D NumPy array with 0 and 1 as elements\n",
    "        Input : 2D coordinate of the \"start\" and \"goal\"\n",
    "        Output : Heatmap grid of the maze with markers\n",
    "    '''\n",
    "    (height, width) = mazeGrid.shape\n",
    "    mazeGrid = mazeGrid * 255\n",
    "    \n",
    "    mazeGrid[feed[0], feed[1]] = 64\n",
    "    \n",
    "    f = plt.figure(figsize = (width,height))\n",
    "    heatmap(mazeGrid, vmin = 0, vmax = 255, cmap = \"PiYG\", cbar = False)"
   ]
  },
  {
   "cell_type": "code",
   "execution_count": 121,
   "id": "dc956d4a",
   "metadata": {},
   "outputs": [
    {
     "data": {
      "image/png": "[encoded data removed]",
      "text/plain": [
       "<Figure size 600x600 with 1 Axes>"
      ]
     },
     "metadata": {},
     "output_type": "display_data"
    }
   ],
   "source": [
    "newGrid = [[1.0, 1.0, 1.0, 1.0, 1.0, 1.0],\n",
    "        [1.0, 0.0, 0.0, 0.0, 0.0, 1.0],\n",
    "        [1.0, 0.0, 0.0, 0.0, 0.0, 1.0],\n",
    "        [1.0, 0.0, 0.0, 0.0, 0.0, 1.0],\n",
    "        [1.0, 0.0, 0.0, 0.0, 0.0, 1.0],\n",
    "        [1.0, 1.0, 1.0, 1.0, 1.0, 1.0]]\n",
    "\n",
    "grid = [[1.0, 1.0, 1.0, 1.0, 1.0, 1.0],\n",
    "        [1.0, 0.0, 0.0, 0.0, 0.0, 1.0],\n",
    "        [1.0, 0.0, 0.0, 0.0, 0.0, 1.0],\n",
    "        [1.0, 0.0, 0.0, 0.75, 0.0, 1.0],\n",
    "        [1.0, 0.0, 0.0, 0.0, 0.0, 1.0],\n",
    "        [1.0, 1.0, 1.0, 1.0, 1.0, 1.0]]\n",
    "\n",
    "newGrid = np.array(newGrid)\n",
    "grid = np.array(grid)\n",
    "\n",
    "showBinaryMaze(grid)\n",
    "        \n",
    "        \n"
   ]
  },
  {
   "cell_type": "code",
   "execution_count": 122,
   "id": "dbebb26e",
   "metadata": {},
   "outputs": [],
   "source": [
    "def spawnFeed(grid):\n",
    "    location = (randint(1,4), randint(1,4))\n",
    "    if grid[location[0], location[1]] != 0.75:\n",
    "        return location\n",
    "    "
   ]
  },
  {
   "cell_type": "code",
   "execution_count": 123,
   "id": "20f86ffd",
   "metadata": {
    "scrolled": true
   },
   "outputs": [
    {
     "data": {
      "image/png": "[encoded data removed]",
      "text/plain": [
       "<Figure size 600x600 with 1 Axes>"
      ]
     },
     "metadata": {},
     "output_type": "display_data"
    }
   ],
   "source": [
    "feed = spawnFeed(grid)\n",
    "showBinaryMazeProblem(grid, feed)"
   ]
  },
  {
   "cell_type": "code",
   "execution_count": 124,
   "id": "3a7858e0",
   "metadata": {},
   "outputs": [],
   "source": [
    "# Create a Graph class\n",
    "class GridGraph(object):\n",
    "    ''' Class to represent a Graph\n",
    "        Construction : Using Edges\n",
    "    '''\n",
    "    def __init__(self):\n",
    "        self.edges = {}\n",
    "    \n",
    "    def all_edges(self):\n",
    "        return self.edges\n",
    "    \n",
    "    def neighbors(self, node):\n",
    "        return self.edges[node]    "
   ]
  },
  {
   "cell_type": "code",
   "execution_count": 125,
   "id": "4ea88069",
   "metadata": {},
   "outputs": [],
   "source": [
    "# Function to convert a maze to a graph\n",
    "def grid_to_graph(grid):\n",
    "    ''' Converts a 2D binary maze to corresponding graph\n",
    "        Input : 2D NumPy array with 0 and 1 as elements\n",
    "        Output : MazeGraph corresponding to input maze\n",
    "    '''\n",
    "    gridGraph = GridGraph()\n",
    "    (height, width) = grid.shape\n",
    "    \n",
    "    for i in range(height):\n",
    "        for j in range(width):\n",
    "            \n",
    "            # Only consider blank cells as nodes\n",
    "            if grid[i,j] in (0, 0.75):\n",
    "                \n",
    "                neighbors = []\n",
    "                \n",
    "                # Adjacent cell : Top\n",
    "                if (i > 0) and grid[i-1,j] == 0:\n",
    "                    neighbors.append(((i-1,j), 1))\n",
    "                    \n",
    "                # Adjacent cell : Left                \n",
    "                if (j > 0) and grid[i,j-1] == 0:\n",
    "                    neighbors.append(((i,j-1), 1))\n",
    "                    \n",
    "                # Adjacent cell : Bottom                    \n",
    "                if (i < height - 1) and grid[i+1,j] == 0:\n",
    "                    neighbors.append(((i+1,j), 1))\n",
    "\n",
    "                # Adjacent cell : Right                    \n",
    "                if (j < width - 1) and grid[i,j+1] == 0:\n",
    "                    neighbors.append(((i,j+1), 1))\n",
    "\n",
    "                # Insert edges in the graph\n",
    "                if len(neighbors) > 0:\n",
    "                    gridGraph.edges[(i,j)] = neighbors\n",
    "\n",
    "    return gridGraph"
   ]
  },
  {
   "cell_type": "code",
   "execution_count": 126,
   "id": "f4c2cb49",
   "metadata": {},
   "outputs": [
    {
     "data": {
      "text/plain": [
       "{(1, 1): [((2, 1), 1), ((1, 2), 1)],\n",
       " (1, 2): [((1, 1), 1), ((2, 2), 1), ((1, 3), 1)],\n",
       " (1, 3): [((1, 2), 1), ((2, 3), 1), ((1, 4), 1)],\n",
       " (1, 4): [((1, 3), 1), ((2, 4), 1)],\n",
       " (2, 1): [((1, 1), 1), ((3, 1), 1), ((2, 2), 1)],\n",
       " (2, 2): [((1, 2), 1), ((2, 1), 1), ((3, 2), 1), ((2, 3), 1)],\n",
       " (2, 3): [((1, 3), 1), ((2, 2), 1), ((2, 4), 1)],\n",
       " (2, 4): [((1, 4), 1), ((2, 3), 1), ((3, 4), 1)],\n",
       " (3, 1): [((2, 1), 1), ((4, 1), 1), ((3, 2), 1)],\n",
       " (3, 2): [((2, 2), 1), ((3, 1), 1), ((4, 2), 1)],\n",
       " (3, 3): [((2, 3), 1), ((3, 2), 1), ((4, 3), 1), ((3, 4), 1)],\n",
       " (3, 4): [((2, 4), 1), ((4, 4), 1)],\n",
       " (4, 1): [((3, 1), 1), ((4, 2), 1)],\n",
       " (4, 2): [((3, 2), 1), ((4, 1), 1), ((4, 3), 1)],\n",
       " (4, 3): [((4, 2), 1), ((4, 4), 1)],\n",
       " (4, 4): [((3, 4), 1), ((4, 3), 1)]}"
      ]
     },
     "execution_count": 126,
     "metadata": {},
     "output_type": "execute_result"
    }
   ],
   "source": [
    "# Convert the maze to a graph\n",
    "gridGraph = grid_to_graph(grid)\n",
    "\n",
    "# Print the edges with weights\n",
    "gridGraph.all_edges()"
   ]
  },
  {
   "cell_type": "code",
   "execution_count": 127,
   "id": "ec394e8f",
   "metadata": {},
   "outputs": [],
   "source": [
    "# Helper functions to work with the Maze with Path\n",
    "\n",
    "def showBinaryGridPath(grid, path):\n",
    "    ''' Display the maze corresponding to a binary grid\n",
    "        Display path(s) superimposed on the binary grid \n",
    "        Input : 2D NumPy array with 0 and 1 as elements\n",
    "        Input : 2D coordinates of the paths on the maze\n",
    "        Output : Heatmap grid of the maze with the path\n",
    "    '''\n",
    "    (height, width) = grid.shape\n",
    "    grid = grid * 255                # just to match standard pixel values (0 to 255) in grayscale\n",
    "    \n",
    "    for node in path:\n",
    "        grid[node[0], node[1]] = 128     # half level of grayscale (0 to 255) to highlight the path\n",
    "    \n",
    "    grid[node[0], node[1]] = 192\n",
    "    \n",
    "    f = plt.figure(figsize = (width,height))\n",
    "    heatmap(grid, vmin = 0, vmax = 255, cmap = \"PiYG\", cbar = False)"
   ]
  },
  {
   "cell_type": "code",
   "execution_count": 128,
   "id": "851d6f8e",
   "metadata": {},
   "outputs": [],
   "source": [
    "# Breadth-First-Search (BFS) with FIFO Queue\n",
    "\n",
    "def breadth_first_search(mazeGraph, start, goal):\n",
    "    ''' Function to perform BFS to find path in a graph\n",
    "        Input  : Graph with the start and goal vertices\n",
    "        Output : Dict of explored vertices in the graph\n",
    "    '''\n",
    "    frontier = queue.Queue()    # FIFO Queue for Frontier\n",
    "    \n",
    "    # initialization\n",
    "    frontier.put(start)         # Add the start node to frontier\n",
    "    explored = {}               # Dict of explored nodes {node : parentNode}\n",
    "    explored[start] = None      # start node has no parent node\n",
    "    processed = 0               # Count of total nodes processed\n",
    "    \n",
    "    while not frontier.empty():\n",
    "        # get next node from frontier\n",
    "        currentNode = frontier.get()\n",
    "        processed += 1\n",
    "        \n",
    "        # stop when goal is reached\n",
    "        if currentNode == goal:\n",
    "            break\n",
    "        \n",
    "        # explore every single neighbor of current node\n",
    "        for nextNode, weight in mazeGraph.neighbors(currentNode):\n",
    "           \n",
    "            # ignore if it has already been explored, helps to ensure we get optimal soln\n",
    "            if nextNode not in explored:\n",
    "                \n",
    "                # put new node in frontier\n",
    "                frontier.put(nextNode)\n",
    "                \n",
    "                # assign current node as parent\n",
    "                explored[nextNode] = currentNode\n",
    "    \n",
    "    return explored, processed\n",
    "\n",
    "\n",
    "# Reconstruct the path from the Dict of explored nodes {node : parentNode}\n",
    "# Intuition : Backtrack from the goal node by checking successive parents\n",
    "\n",
    "def reconstruct_path(explored, start, goal):\n",
    "    currentNode = goal             # start at the goal node\n",
    "    path = []                      # initiate the blank path\n",
    "\n",
    "    # stop when backtrack reaches start node\n",
    "    while currentNode != start:\n",
    "        # grow the path backwards and backtrack\n",
    "        path.append(currentNode)\n",
    "        currentNode = explored[currentNode]\n",
    "\n",
    "    path.append(start)             # append start node for completeness\n",
    "    path.reverse()                 # reverse the path from start to goal\n",
    "\n",
    "    return path\n",
    "\n"
   ]
  },
  {
   "cell_type": "code",
   "execution_count": 129,
   "id": "759c9fc8",
   "metadata": {
    "scrolled": true
   },
   "outputs": [
    {
     "name": "stdout",
     "output_type": "stream",
     "text": [
      "Breadth-First-Search (BFS)\n",
      "\n",
      "Total nodes in maze : 15\n",
      "Total nodes visited : 2  |  13.33 %\n",
      "Final path distance : 2\n",
      "\n",
      "Path through the Maze : [(3, 3), (2, 3)]\n"
     ]
    },
    {
     "data": {
      "image/png": "[encoded data removed]",
      "text/plain": [
       "<Figure size 600x600 with 1 Axes>"
      ]
     },
     "metadata": {},
     "output_type": "display_data"
    }
   ],
   "source": [
    "snakeArr = [(3,3)]\n",
    "head = snakeArr[0]\n",
    "tail = head\n",
    "\n",
    "START = head\n",
    "GOAL = feed\n",
    "\n",
    "# Run the BFS algorithm for path finding\n",
    "nodesExplored, nodesProcessed = breadth_first_search(gridGraph, start = START, goal = GOAL)\n",
    "path = reconstruct_path(nodesExplored, start = START, goal = GOAL)\n",
    "\n",
    "# Basic measures for the algorithm\n",
    "print(\"Breadth-First-Search (BFS)\")\n",
    "print()\n",
    "\n",
    "totalNodes = np.count_nonzero(grid == 0)\n",
    "print(\"Total nodes in maze :\", totalNodes)\n",
    "print(\"Total nodes visited :\", nodesProcessed, \" | \", np.round(100*(nodesProcessed/totalNodes),2), \"%\")\n",
    "print(\"Final path distance :\", len(path))\n",
    "print()\n",
    "\n",
    "# Print the path and show using helper functions\n",
    "print(\"Path through the Maze :\", path)\n",
    "showBinaryGridPath(grid,path)"
   ]
  },
  {
   "cell_type": "code",
   "execution_count": 130,
   "id": "dee110b2",
   "metadata": {},
   "outputs": [
    {
     "name": "stdout",
     "output_type": "stream",
     "text": [
      "[(2, 3), (3, 3)]\n"
     ]
    }
   ],
   "source": [
    "length = 2\n",
    "path.reverse()\n",
    "obs = path[:length]\n",
    "print(obs)\n",
    "\n"
   ]
  },
  {
   "cell_type": "code",
   "execution_count": 131,
   "id": "6ee87f38",
   "metadata": {},
   "outputs": [],
   "source": [
    "def updateGrid(grid, obs):\n",
    "    for i in obs:\n",
    "        x,y = i[0], i[1]\n",
    "        grid[x,y] = 0.75\n",
    "    return grid\n",
    "    "
   ]
  },
  {
   "cell_type": "code",
   "execution_count": 132,
   "id": "f755313d",
   "metadata": {},
   "outputs": [
    {
     "name": "stdout",
     "output_type": "stream",
     "text": [
      "[[1.   1.   1.   1.   1.   1.  ]\n",
      " [1.   0.   0.   0.   0.   1.  ]\n",
      " [1.   0.   0.   0.75 0.   1.  ]\n",
      " [1.   0.   0.   0.75 0.   1.  ]\n",
      " [1.   0.   0.   0.   0.   1.  ]\n",
      " [1.   1.   1.   1.   1.   1.  ]]\n"
     ]
    }
   ],
   "source": [
    "grid = updateGrid(newGrid, obs)\n",
    "\n",
    "print(grid)"
   ]
  },
  {
   "cell_type": "code",
   "execution_count": 133,
   "id": "479ef287",
   "metadata": {},
   "outputs": [
    {
     "ename": "TypeError",
     "evalue": "'NoneType' object is not subscriptable",
     "output_type": "error",
     "traceback": [
      "\u001b[1;31m---------------------------------------------------------------------------\u001b[0m",
      "\u001b[1;31mTypeError\u001b[0m                                 Traceback (most recent call last)",
      "Cell \u001b[1;32mIn[133], line 2\u001b[0m\n\u001b[0;32m      1\u001b[0m feed \u001b[38;5;241m=\u001b[39m spawnFeed(grid)\n\u001b[1;32m----> 2\u001b[0m \u001b[43mshowBinaryMazeProblem\u001b[49m\u001b[43m(\u001b[49m\u001b[43mgrid\u001b[49m\u001b[43m,\u001b[49m\u001b[43m \u001b[49m\u001b[43mfeed\u001b[49m\u001b[43m)\u001b[49m\n",
      "Cell \u001b[1;32mIn[120], line 24\u001b[0m, in \u001b[0;36mshowBinaryMazeProblem\u001b[1;34m(mazeGrid, feed)\u001b[0m\n\u001b[0;32m     21\u001b[0m (height, width) \u001b[38;5;241m=\u001b[39m mazeGrid\u001b[38;5;241m.\u001b[39mshape\n\u001b[0;32m     22\u001b[0m mazeGrid \u001b[38;5;241m=\u001b[39m mazeGrid \u001b[38;5;241m*\u001b[39m \u001b[38;5;241m255\u001b[39m\n\u001b[1;32m---> 24\u001b[0m mazeGrid[\u001b[43mfeed\u001b[49m\u001b[43m[\u001b[49m\u001b[38;5;241;43m0\u001b[39;49m\u001b[43m]\u001b[49m, feed[\u001b[38;5;241m1\u001b[39m]] \u001b[38;5;241m=\u001b[39m \u001b[38;5;241m64\u001b[39m\n\u001b[0;32m     26\u001b[0m f \u001b[38;5;241m=\u001b[39m plt\u001b[38;5;241m.\u001b[39mfigure(figsize \u001b[38;5;241m=\u001b[39m (width,height))\n\u001b[0;32m     27\u001b[0m heatmap(mazeGrid, vmin \u001b[38;5;241m=\u001b[39m \u001b[38;5;241m0\u001b[39m, vmax \u001b[38;5;241m=\u001b[39m \u001b[38;5;241m255\u001b[39m, cmap \u001b[38;5;241m=\u001b[39m \u001b[38;5;124m\"\u001b[39m\u001b[38;5;124mPiYG\u001b[39m\u001b[38;5;124m\"\u001b[39m, cbar \u001b[38;5;241m=\u001b[39m \u001b[38;5;28;01mFalse\u001b[39;00m)\n",
      "\u001b[1;31mTypeError\u001b[0m: 'NoneType' object is not subscriptable"
     ]
    }
   ],
   "source": [
    "feed = spawnFeed(grid)\n",
    "showBinaryMazeProblem(grid, feed)"
   ]
  },
  {
   "cell_type": "code",
   "execution_count": 84,
   "id": "539267c7",
   "metadata": {},
   "outputs": [
    {
     "ename": "IndentationError",
     "evalue": "expected an indented block (17626015.py, line 11)",
     "output_type": "error",
     "traceback": [
      "\u001b[1;36m  Cell \u001b[1;32mIn[84], line 11\u001b[1;36m\u001b[0m\n\u001b[1;33m    \u001b[0m\n\u001b[1;37m    ^\u001b[0m\n\u001b[1;31mIndentationError\u001b[0m\u001b[1;31m:\u001b[0m expected an indented block\n"
     ]
    }
   ],
   "source": [
    "def calculateTail(snakeArr, path):\n",
    "    pathSteps = len(path)\n",
    "    if len(snakeArr) >= pathSteps:\n",
    "        snakeArr = path.reverse() + snakeArr[pathSteps-1:]\n",
    "    else:\n",
    "        \n",
    "        \n",
    "        \n",
    "    \n",
    "    \n",
    "    "
   ]
  },
  {
   "cell_type": "code",
   "execution_count": null,
   "id": "ceff2db6",
   "metadata": {},
   "outputs": [],
   "source": []
  },
  {
   "cell_type": "code",
   "execution_count": null,
   "id": "e59a63a9",
   "metadata": {},
   "outputs": [],
   "source": [
    "head = feed\n",
    "tail = head\n",
    "\n",
    "START = head\n",
    "GOAL = feed\n",
    "\n",
    "# Run the BFS algorithm for path finding\n",
    "nodesExplored, nodesProcessed = breadth_first_search(gridGraph, start = START, goal = GOAL)\n",
    "path = reconstruct_path(nodesExplored, start = START, goal = GOAL)\n",
    "\n",
    "# Basic measures for the algorithm\n",
    "print(\"Breadth-First-Search (BFS)\")\n",
    "print()\n",
    "\n",
    "totalNodes = np.count_nonzero(grid == 0)\n",
    "print(\"Total nodes in maze :\", totalNodes)\n",
    "print(\"Total nodes visited :\", nodesProcessed, \" | \", np.round(100*(nodesProcessed/totalNodes),2), \"%\")\n",
    "print(\"Final path distance :\", len(path))\n",
    "print()\n",
    "\n",
    "# Print the path and show using helper functions\n",
    "print(\"Path through the Maze :\", path)\n",
    "showBinaryGridPath(grid,path)"
   ]
  },
  {
   "cell_type": "code",
   "execution_count": null,
   "id": "96478ed2",
   "metadata": {},
   "outputs": [],
   "source": []
  },
  {
   "cell_type": "code",
   "execution_count": 12,
   "id": "c01fc4dd",
   "metadata": {},
   "outputs": [],
   "source": [
    "from turtle import Screen\n"
   ]
  },
  {
   "cell_type": "code",
   "execution_count": null,
   "id": "2a26eefa",
   "metadata": {},
   "outputs": [],
   "source": []
  }
 ],
 "metadata": {
  "kernelspec": {
   "display_name": "Python 3 (ipykernel)",
   "language": "python",
   "name": "python3"
  },
  "language_info": {
   "codemirror_mode": {
    "name": "ipython",
    "version": 3
   },
   "file_extension": ".py",
   "mimetype": "text/x-python",
   "name": "python",
   "nbconvert_exporter": "python",
   "pygments_lexer": "ipython3",
   "version": "3.9.19"
  }
 },
 "nbformat": 4,
 "nbformat_minor": 5
}
