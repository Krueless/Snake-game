{
 "cells": [
  {
   "cell_type": "code",
   "execution_count": 1,
   "id": "00259afd",
   "metadata": {},
   "outputs": [],
   "source": [
    "import numpy as np\n",
    "import matplotlib.pyplot as plt\n",
    "from seaborn import heatmap\n",
    "import networkx as nx\n",
    "import queue\n",
    "from random import randint"
   ]
  },
  {
   "cell_type": "code",
   "execution_count": 2,
   "id": "9661fb42",
   "metadata": {},
   "outputs": [],
   "source": [
    "def showGrid(grid):\n",
    "    ''' Display the maze corresponding to a binary grid\n",
    "        Input : 2D NumPy array with 0 and 1 as elements\n",
    "        Output : Heatmap grid of the corresponding maze\n",
    "    '''\n",
    "    grid = grid.copy()\n",
    "    (height, width) = grid.shape\n",
    "    grid = grid * 255                # just to match standard pixel values (0 to 255) in grayscale\n",
    "    \n",
    "    f = plt.figure(figsize = (width,height))\n",
    "    heatmap(grid, vmin = 0, vmax = 255, cmap = \"PiYG\", cbar = False)\n",
    "    \n",
    "    \n",
    "    \n",
    "def showGridProblem(grid, feed):\n",
    "    ''' Display the maze corresponding to a binary grid\n",
    "        Display \"start\" and \"goal\" position on the grid \n",
    "        Input : 2D NumPy array with 0 and 1 as elements\n",
    "        Input : 2D coordinate of the \"start\" and \"goal\"\n",
    "        Output : Heatmap grid of the maze with markers\n",
    "    '''\n",
    "    \n",
    "    grid = grid.copy()\n",
    "    (height, width) = grid.shape\n",
    "    grid = grid.copy() * 255\n",
    "    \n",
    "    grid[feed[0], feed[1]] = 64\n",
    "    \n",
    "    f = plt.figure(figsize = (width,height))\n",
    "    heatmap(grid, vmin = 0, vmax = 255, cmap = \"PiYG\", cbar = False)"
   ]
  },
  {
   "cell_type": "code",
   "execution_count": 3,
   "id": "54263ca1",
   "metadata": {},
   "outputs": [],
   "source": [
    "def updateGrid(grid, obs):\n",
    "    grid = grid.copy()\n",
    "    print(\"obs: \",obs)\n",
    "    for i in range(len(obs)):\n",
    "        x,y = obs[i][0], obs[i][1]\n",
    "        if i == 0:\n",
    "            grid[x,y] = 0.75\n",
    "        else:\n",
    "            grid[x,y] = 0.6\n",
    "    return grid\n",
    "    "
   ]
  },
  {
   "cell_type": "code",
   "execution_count": 4,
   "id": "406c7365",
   "metadata": {},
   "outputs": [],
   "source": [
    "def spawnFeed(grid):\n",
    "    location = (randint(1,4), randint(1,4))\n",
    "    while grid[location[0], location[1]] in (0.75, 1, 0.6):\n",
    "        location = (randint(1,4), randint(1,4))\n",
    "    \n",
    "    return location"
   ]
  },
  {
   "cell_type": "code",
   "execution_count": 5,
   "id": "ca1282b5",
   "metadata": {},
   "outputs": [],
   "source": [
    "# Create a Graph class\n",
    "class GridGraph(object):\n",
    "    ''' Class to represent a Graph\n",
    "        Construction : Using Edges\n",
    "    '''\n",
    "    def __init__(self):\n",
    "        self.edges = {}\n",
    "    \n",
    "    def all_edges(self):\n",
    "        return self.edges\n",
    "    \n",
    "    def neighbors(self, node):\n",
    "        return self.edges[node]    "
   ]
  },
  {
   "cell_type": "code",
   "execution_count": 21,
   "id": "833519d3",
   "metadata": {},
   "outputs": [],
   "source": [
    "# Function to convert a maze to a graph\n",
    "def grid_to_graph(grid, tail):\n",
    "    ''' Converts a 2D binary maze to corresponding graph\n",
    "        Input : 2D NumPy array with 0 and 1 as elements\n",
    "        Output : MazeGraph corresponding to input maze\n",
    "    '''\n",
    "    gridGraph = GridGraph()\n",
    "    (height, width) = grid.shape\n",
    "    \n",
    "    for i in range(1, height-1):\n",
    "        for j in range(1, width-1):\n",
    "            \n",
    "            # Only consider blank cells as nodes\n",
    "            if grid[i,j] in (0, 0.75):\n",
    "                \n",
    "                neighbors = []\n",
    "                \n",
    "                # Adjacent cell : Top\n",
    "                if (i > 1) and (grid[i-1,j] == 0 or ((i-1,j) == tail[1] and (i,j) != tail[0])):\n",
    "                    neighbors.append(((i-1,j), 1))\n",
    "                    \n",
    "                # Adjacent cell : Left                \n",
    "                if (j > 1) and (grid[i,j-1] == 0 or ((i-1,j) == tail[1] and (i,j) != tail[0])):\n",
    "                    neighbors.append(((i,j-1), 1))\n",
    "                    \n",
    "                # Adjacent cell : Bottom                    \n",
    "                if (i < height - 2) and (grid[i+1,j] == 0 or ((i-1,j) == tail[1] and (i,j) != tail[0])):\n",
    "                    neighbors.append(((i+1,j), 1))\n",
    "\n",
    "                # Adjacent cell : Right                    \n",
    "                if (j < width - 2) and (grid[i,j+1] == 0 or ((i-1,j) == tail[1] and (i,j) != tail[0])):\n",
    "                    neighbors.append(((i,j+1), 1))\n",
    "\n",
    "                # Insert edges in the graph\n",
    "                #if len(neighbors) > 0:\n",
    "                gridGraph.edges[(i,j)] = neighbors\n",
    "\n",
    "    return gridGraph"
   ]
  },
  {
   "cell_type": "code",
   "execution_count": 7,
   "id": "82972b3d",
   "metadata": {},
   "outputs": [
    {
     "data": {
      "text/plain": [
       "'\\ndef updateGridSearch(grid,newPos,search):\\n    grid[prevNode[0], prevNode[1]] = 0.6 \\n    grid[node[0], node[1]] = 0.75\\n\\n    tail = snakeArr[-1]\\n    snakeArr = snakeArr[:-1]\\n    snakeArr.insert(0, node)\\n    grid[tail[0], tail[1]] = 0\\n\\n\\n'"
      ]
     },
     "execution_count": 7,
     "metadata": {},
     "output_type": "execute_result"
    }
   ],
   "source": [
    "# Helper functions to work with the Maze with Path\n",
    "\n",
    "def showGridPath(grid, path, goal, snakeArr):\n",
    "    ''' Display the maze corresponding to a binary grid\n",
    "        Display path(s) superimposed on the binary grid \n",
    "        Input : 2D NumPy array with 0 and 1 as elements\n",
    "        Input : 2D coordinates of the paths on the maze\n",
    "        Output : Heatmap grid of the maze with the path\n",
    "    '''\n",
    "    grid = grid \n",
    "    for i in range(len(path)):\n",
    "        node = path[i]\n",
    "        if i != 0:\n",
    "            grid[prevNode[0], prevNode[1]] = 0.6 \n",
    "            grid[node[0], node[1]] = 0.75\n",
    "            \n",
    "            tail = snakeArr[-1]\n",
    "            snakeArr = snakeArr[:-1]\n",
    "            snakeArr.insert(0, node)\n",
    "            grid[tail[0], tail[1]] = 0\n",
    "        \n",
    "            if i == len(path) - 1:\n",
    "                showGrid(grid)\n",
    "            else:\n",
    "                showGridProblem(grid, goal)\n",
    "        prevNode = node\n",
    "\n",
    "        \n",
    "\"\"\"\n",
    "def updateGridSearch(grid,newPos,search):\n",
    "    grid[prevNode[0], prevNode[1]] = 0.6 \n",
    "    grid[node[0], node[1]] = 0.75\n",
    "\n",
    "    tail = snakeArr[-1]\n",
    "    snakeArr = snakeArr[:-1]\n",
    "    snakeArr.insert(0, node)\n",
    "    grid[tail[0], tail[1]] = 0\n",
    "\n",
    "\n",
    "\"\"\""
   ]
  },
  {
   "cell_type": "code",
   "execution_count": 13,
   "id": "a1b367c6",
   "metadata": {},
   "outputs": [],
   "source": [
    "# Breadth-First-Search (BFS) with FIFO Queue\n",
    "\n",
    "def breadth_first_search(gridGraph, start, goal):\n",
    "    ''' Function to perform BFS to find path in a graph\n",
    "        Input  : Graph with the start and goal vertices\n",
    "        Output : Dict of explored vertices in the graph\n",
    "    '''\n",
    "    frontier = queue.Queue()    # FIFO Queue for Frontier\n",
    "    \n",
    "    # initialization\n",
    "    frontier.put(start)         # Add the start node to frontier\n",
    "    explored = {}               # Dict of explored nodes {node : parentNode}\n",
    "    explored[start] = None      # start node has no parent node\n",
    "    processed = 0               # Count of total nodes processed\n",
    "    \n",
    "    while not frontier.empty():\n",
    "        # get next node from frontier\n",
    "        currentNode = frontier.get()\n",
    "        processed += 1\n",
    "        \n",
    "        # stop when goal is reached\n",
    "        if currentNode == goal:\n",
    "            break\n",
    "        \n",
    "        # explore every single neighbor of current node\n",
    "        print(gridGraph.neighbors(currentNode))\n",
    "        if gridGraph.neighbors(currentNode):\n",
    "            for nextNode, weight in gridGraph.neighbors(currentNode):\n",
    "\n",
    "                # ignore if it has already been explored, helps to ensure we get optimal soln\n",
    "                if nextNode not in explored:\n",
    "\n",
    "                    # put new node in frontier\n",
    "                    frontier.put(nextNode)\n",
    "\n",
    "                    # assign current node as parent\n",
    "                    explored[nextNode] = currentNode\n",
    "    \n",
    "    return explored, processed\n",
    "\n",
    "\n",
    "# Reconstruct the path from the Dict of explored nodes {node : parentNode}\n",
    "# Intuition : Backtrack from the goal node by checking successive parents\n",
    "\n",
    "def reconstruct_path(explored, start, goal):\n",
    "    currentNode = goal             # start at the goal node\n",
    "    path = []                      # initiate the blank path\n",
    "\n",
    "    # stop when backtrack reaches start node\n",
    "    while currentNode != start:\n",
    "        # grow the path backwards and backtrack\n",
    "        path.append(currentNode)\n",
    "        currentNode = explored[currentNode]\n",
    "\n",
    "    path.append(start)             # append start node for completeness\n",
    "    path.reverse()                 # reverse the path from start to goal\n",
    "\n",
    "    return path\n",
    "\n"
   ]
  },
  {
   "cell_type": "code",
   "execution_count": 9,
   "id": "eed04d33",
   "metadata": {},
   "outputs": [],
   "source": [
    "class Snake:\n",
    "    def __init__(self):\n",
    "        self._length = 1\n",
    "        self._posArr = [(3,3)]\n",
    "        \n",
    "    def grow(self):\n",
    "        self._length += 1\n",
    "    \n",
    "    def updatePos(self, path):\n",
    "        path.reverse()\n",
    "        stepCount = len(path)\n",
    "        snakeLength = self._length\n",
    "        if snakeLength > len(path):\n",
    "            self._posArr = path + self._posArr[1:snakeLength-stepCount+1]\n",
    "        else:\n",
    "            self._posArr = path[:snakeLength]\n",
    "    \n",
    "    def getPos(self):\n",
    "        return self._posArr\n",
    "    \n",
    "    def getLength(self):\n",
    "        return self._length"
   ]
  },
  {
   "cell_type": "code",
   "execution_count": 10,
   "id": "dc956d4a",
   "metadata": {},
   "outputs": [],
   "source": [
    "newGrid = [[1.0, 1.0, 1.0, 1.0, 1.0, 1.0],\n",
    "        [1.0, 0.0, 0.0, 0.0, 0.0, 1.0],\n",
    "        [1.0, 0.0, 0.0, 0.0, 0.0, 1.0],\n",
    "        [1.0, 0.0, 0.0, 0.0, 0.0, 1.0],\n",
    "        [1.0, 0.0, 0.0, 0.0, 0.0, 1.0],\n",
    "        [1.0, 1.0, 1.0, 1.0, 1.0, 1.0]]\n",
    "\n",
    "newGrid = np.array(newGrid)\n"
   ]
  },
  {
   "cell_type": "code",
   "execution_count": 22,
   "id": "61450f01",
   "metadata": {},
   "outputs": [],
   "source": [
    "def compute(s, feed = None):\n",
    "    snakeArr = s.getPos()\n",
    "    head = snakeArr[0]\n",
    "    if len(snakeArr) == 1:\n",
    "        tail = [(0,0)] + snakeArr\n",
    "    else:\n",
    "        tail = snakeArr[-2:]\n",
    "    grid = updateGrid(newGrid, snakeArr) \n",
    "    if not feed:\n",
    "        feed = spawnFeed(grid)\n",
    "    showGridProblem(grid, feed)\n",
    "\n",
    "    # Convert the maze to a graph\n",
    "    gridGraph = grid_to_graph(grid, tail)\n",
    "\n",
    "    # Print the edges with weights\n",
    "    gridGraph.all_edges()\n",
    "    \n",
    "    \n",
    "    \n",
    "    return (head, feed, grid, snakeArr, gridGraph)\n",
    "    "
   ]
  },
  {
   "cell_type": "code",
   "execution_count": 23,
   "id": "789d3ff6",
   "metadata": {
    "scrolled": false
   },
   "outputs": [
    {
     "name": "stdout",
     "output_type": "stream",
     "text": [
      "obs:  [(3, 3)]\n",
      "[((2, 3), 1), ((3, 2), 1), ((4, 3), 1), ((3, 4), 1)]\n",
      "[((1, 3), 1), ((2, 2), 1), ((2, 4), 1)]\n",
      "[((2, 2), 1), ((3, 1), 1), ((4, 2), 1)]\n",
      "[((3, 3), 1), ((4, 2), 1), ((4, 4), 1)]\n",
      "[((2, 4), 1), ((4, 4), 1)]\n",
      "[((1, 2), 1), ((2, 3), 1), ((1, 4), 1)]\n",
      "[((1, 2), 1), ((2, 1), 1), ((3, 2), 1), ((2, 3), 1)]\n",
      "[((1, 4), 1), ((2, 3), 1), ((3, 4), 1)]\n",
      "[((2, 1), 1), ((4, 1), 1), ((3, 2), 1)]\n",
      "[((3, 2), 1), ((4, 1), 1), ((4, 3), 1)]\n",
      "[((3, 4), 1), ((4, 3), 1)]\n",
      "[((1, 1), 1), ((2, 2), 1), ((1, 3), 1)]\n",
      "[((1, 3), 1), ((2, 4), 1)]\n",
      "[((1, 1), 1), ((3, 1), 1), ((2, 2), 1)]\n",
      "[((3, 1), 1), ((4, 2), 1)]\n",
      "Breadth-First-Search (BFS)\n",
      "\n",
      "Total nodes in maze : 15\n",
      "Total nodes visited : 16  |  106.67 %\n",
      "Final path distance : 5\n",
      "\n",
      "Path through the Maze : [(3, 3), (2, 3), (1, 3), (1, 2), (1, 1)]\n",
      "obs:  [(1, 1), (1, 2)]\n",
      "[((2, 1), 1)]\n",
      "[((3, 1), 1), ((2, 2), 1)]\n",
      "[((2, 1), 1), ((4, 1), 1), ((3, 2), 1)]\n",
      "[((1, 2), 1), ((2, 1), 1), ((3, 2), 1), ((2, 3), 1)]\n",
      "[((3, 1), 1), ((4, 2), 1)]\n",
      "[((2, 2), 1), ((3, 1), 1), ((4, 2), 1), ((3, 3), 1)]\n"
     ]
    },
    {
     "ename": "KeyError",
     "evalue": "(1, 2)",
     "output_type": "error",
     "traceback": [
      "\u001b[1;31m---------------------------------------------------------------------------\u001b[0m",
      "\u001b[1;31mKeyError\u001b[0m                                  Traceback (most recent call last)",
      "Cell \u001b[1;32mIn[23], line 7\u001b[0m\n\u001b[0;32m      5\u001b[0m head, feed, grid, snakeArr, gridGraph \u001b[38;5;241m=\u001b[39m compute(s1)\n\u001b[0;32m      6\u001b[0m \u001b[38;5;66;03m# Run the BFS algorithm for path finding\u001b[39;00m\n\u001b[1;32m----> 7\u001b[0m nodesExplored, nodesProcessed \u001b[38;5;241m=\u001b[39m \u001b[43mbreadth_first_search\u001b[49m\u001b[43m(\u001b[49m\u001b[43mgridGraph\u001b[49m\u001b[43m,\u001b[49m\u001b[43m \u001b[49m\u001b[43mstart\u001b[49m\u001b[43m \u001b[49m\u001b[38;5;241;43m=\u001b[39;49m\u001b[43m \u001b[49m\u001b[43mhead\u001b[49m\u001b[43m,\u001b[49m\u001b[43m \u001b[49m\u001b[43mgoal\u001b[49m\u001b[43m \u001b[49m\u001b[38;5;241;43m=\u001b[39;49m\u001b[43m \u001b[49m\u001b[43mfeed\u001b[49m\u001b[43m)\u001b[49m\n\u001b[0;32m      8\u001b[0m \u001b[38;5;250m\u001b[39m\u001b[38;5;124;03m\"\"\"\u001b[39;00m\n\u001b[0;32m      9\u001b[0m \u001b[38;5;124;03m\u001b[39;00m\n\u001b[0;32m     10\u001b[0m \u001b[38;5;124;03m while feed not in nodesExplored:    \u001b[39;00m\n\u001b[1;32m   (...)\u001b[0m\n\u001b[0;32m     21\u001b[0m \u001b[38;5;124;03m\u001b[39;00m\n\u001b[0;32m     22\u001b[0m \u001b[38;5;124;03m\"\"\"\u001b[39;00m\n\u001b[0;32m     25\u001b[0m path \u001b[38;5;241m=\u001b[39m reconstruct_path(nodesExplored, start \u001b[38;5;241m=\u001b[39m head, goal \u001b[38;5;241m=\u001b[39m feed)\n",
      "Cell \u001b[1;32mIn[13], line 26\u001b[0m, in \u001b[0;36mbreadth_first_search\u001b[1;34m(gridGraph, start, goal)\u001b[0m\n\u001b[0;32m     23\u001b[0m     \u001b[38;5;28;01mbreak\u001b[39;00m\n\u001b[0;32m     25\u001b[0m \u001b[38;5;66;03m# explore every single neighbor of current node\u001b[39;00m\n\u001b[1;32m---> 26\u001b[0m \u001b[38;5;28mprint\u001b[39m(\u001b[43mgridGraph\u001b[49m\u001b[38;5;241;43m.\u001b[39;49m\u001b[43mneighbors\u001b[49m\u001b[43m(\u001b[49m\u001b[43mcurrentNode\u001b[49m\u001b[43m)\u001b[49m)\n\u001b[0;32m     27\u001b[0m \u001b[38;5;28;01mif\u001b[39;00m gridGraph\u001b[38;5;241m.\u001b[39mneighbors(currentNode):\n\u001b[0;32m     28\u001b[0m     \u001b[38;5;28;01mfor\u001b[39;00m nextNode, weight \u001b[38;5;129;01min\u001b[39;00m gridGraph\u001b[38;5;241m.\u001b[39mneighbors(currentNode):\n\u001b[0;32m     29\u001b[0m \n\u001b[0;32m     30\u001b[0m         \u001b[38;5;66;03m# ignore if it has already been explored, helps to ensure we get optimal soln\u001b[39;00m\n",
      "Cell \u001b[1;32mIn[5], line 13\u001b[0m, in \u001b[0;36mGridGraph.neighbors\u001b[1;34m(self, node)\u001b[0m\n\u001b[0;32m     12\u001b[0m \u001b[38;5;28;01mdef\u001b[39;00m \u001b[38;5;21mneighbors\u001b[39m(\u001b[38;5;28mself\u001b[39m, node):\n\u001b[1;32m---> 13\u001b[0m     \u001b[38;5;28;01mreturn\u001b[39;00m \u001b[38;5;28;43mself\u001b[39;49m\u001b[38;5;241;43m.\u001b[39;49m\u001b[43medges\u001b[49m\u001b[43m[\u001b[49m\u001b[43mnode\u001b[49m\u001b[43m]\u001b[49m\n",
      "\u001b[1;31mKeyError\u001b[0m: (1, 2)"
     ]
    },
    {
     "data": {
      "image/png": "[encoded data removed]",
      "text/plain": [
       "<Figure size 600x600 with 1 Axes>"
      ]
     },
     "metadata": {},
     "output_type": "display_data"
    },
    {
     "data": {
      "image/png": "[encoded data removed]",
      "text/plain": [
       "<Figure size 600x600 with 1 Axes>"
      ]
     },
     "metadata": {},
     "output_type": "display_data"
    },
    {
     "data": {
      "image/png": "[encoded data removed]",
      "text/plain": [
       "<Figure size 600x600 with 1 Axes>"
      ]
     },
     "metadata": {},
     "output_type": "display_data"
    },
    {
     "data": {
      "image/png": "[encoded data removed]",
      "text/plain": [
       "<Figure size 600x600 with 1 Axes>"
      ]
     },
     "metadata": {},
     "output_type": "display_data"
    },
    {
     "data": {
      "image/png": "[encoded data removed]",
      "text/plain": [
       "<Figure size 600x600 with 1 Axes>"
      ]
     },
     "metadata": {},
     "output_type": "display_data"
    },
    {
     "data": {
      "image/png": "[encoded data removed]",
      "text/plain": [
       "<Figure size 600x600 with 1 Axes>"
      ]
     },
     "metadata": {},
     "output_type": "display_data"
    }
   ],
   "source": [
    "s1 = Snake()\n",
    "gameOver = False\n",
    "\n",
    "while s1.getLength() < 10:\n",
    "    head, feed, grid, snakeArr, gridGraph = compute(s1)\n",
    "    # Run the BFS algorithm for path finding\n",
    "    nodesExplored, nodesProcessed = breadth_first_search(gridGraph, start = head, goal = feed)\n",
    "    \"\"\"\n",
    "    \n",
    "     while feed not in nodesExplored:    \n",
    "        if head not in nodesExplored:\n",
    "            showGridProblem(grid,feed)\n",
    "            print(\"Game over!\")\n",
    "            gameOver = True\n",
    "            break\n",
    "        s1.updatePos([head,nodesExplored[head]])\n",
    "        head, feed, grid, snakeArr, gridGraph = compute(s1, feed)\n",
    "        nodesExplored, nodesProcessed = breadth_first_search(gridGraph, start = head, goal = feed)\n",
    "    if gameOver:\n",
    "        break\n",
    "    \n",
    "    \"\"\"\n",
    "   \n",
    "        \n",
    "    path = reconstruct_path(nodesExplored, start = head, goal = feed)\n",
    "\n",
    "    # Basic measures for the algorithm\n",
    "    print(\"Breadth-First-Search (BFS)\")\n",
    "    print()\n",
    "\n",
    "    totalNodes = np.count_nonzero(grid == 0)\n",
    "    print(\"Total nodes in maze :\", totalNodes)\n",
    "    print(\"Total nodes visited :\", nodesProcessed, \" | \", np.round(100*(nodesProcessed/totalNodes),2), \"%\")\n",
    "    print(\"Final path distance :\", len(path))\n",
    "    print()\n",
    "\n",
    "    # Print the path and show using helper functions\n",
    "    print(\"Path through the Maze :\", path)\n",
    "    showGridPath(grid,path,feed,snakeArr)\n",
    "    \n",
    "    s1.grow()\n",
    "    s1.updatePos(path)\n",
    "    "
   ]
  },
  {
   "cell_type": "code",
   "execution_count": null,
   "id": "4f29a69d",
   "metadata": {},
   "outputs": [],
   "source": []
  },
  {
   "cell_type": "code",
   "execution_count": null,
   "id": "ff9b7815",
   "metadata": {},
   "outputs": [],
   "source": []
  },
  {
   "cell_type": "code",
   "execution_count": null,
   "id": "9e0e69b4",
   "metadata": {},
   "outputs": [],
   "source": []
  },
  {
   "cell_type": "code",
   "execution_count": null,
   "id": "1b4468fb",
   "metadata": {},
   "outputs": [],
   "source": []
  },
  {
   "cell_type": "code",
   "execution_count": null,
   "id": "c8c4b7ca",
   "metadata": {},
   "outputs": [],
   "source": []
  },
  {
   "cell_type": "code",
   "execution_count": null,
   "id": "74563530",
   "metadata": {},
   "outputs": [],
   "source": []
  },
  {
   "cell_type": "code",
   "execution_count": null,
   "id": "15549c1e",
   "metadata": {},
   "outputs": [],
   "source": []
  },
  {
   "cell_type": "code",
   "execution_count": null,
   "id": "87712b77",
   "metadata": {},
   "outputs": [],
   "source": []
  },
  {
   "cell_type": "code",
   "execution_count": null,
   "id": "30f9512f",
   "metadata": {},
   "outputs": [],
   "source": []
  },
  {
   "cell_type": "code",
   "execution_count": null,
   "id": "e7011574",
   "metadata": {},
   "outputs": [],
   "source": []
  },
  {
   "cell_type": "code",
   "execution_count": null,
   "id": "0cb5a04b",
   "metadata": {},
   "outputs": [],
   "source": [
    "from turtle import Screen\n"
   ]
  },
  {
   "cell_type": "code",
   "execution_count": null,
   "id": "e188e530",
   "metadata": {},
   "outputs": [],
   "source": []
  }
 ],
 "metadata": {
  "kernelspec": {
   "display_name": "Python 3 (ipykernel)",
   "language": "python",
   "name": "python3"
  },
  "language_info": {
   "codemirror_mode": {
    "name": "ipython",
    "version": 3
   },
   "file_extension": ".py",
   "mimetype": "text/x-python",
   "name": "python",
   "nbconvert_exporter": "python",
   "pygments_lexer": "ipython3",
   "version": "3.9.19"
  }
 },
 "nbformat": 4,
 "nbformat_minor": 5
}
